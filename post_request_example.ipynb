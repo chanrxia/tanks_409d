{
 "cells": [
  {
   "cell_type": "markdown",
   "metadata": {},
   "source": [
    "### Post Request Example"
   ]
  },
  {
   "cell_type": "code",
   "execution_count": 93,
   "metadata": {},
   "outputs": [
    {
     "data": {
      "text/plain": [
       "<Response [200]>"
      ]
     },
     "execution_count": 93,
     "metadata": {},
     "output_type": "execute_result"
    }
   ],
   "source": [
    "import requests as r\n",
    "\n",
    "POST_JSON = {\n",
    "    'input_city': 'Long Beach, California',\n",
    "    'input_tank': [12, 8, 6],\n",
    "    'input_contents': [8450, 'other stocks', 11.5, 4.5],\n",
    "    'input_chem': ['Cyclohexane', 'Benzene', 'Toluene'],\n",
    "    'input_qty': [101, 2812, 258],\n",
    "    'input_default': [0.0625, 1491, 1],\n",
    "    'input_condition': ['White', 'None', 'Average'],\n",
    "    'input_tank_type': 'Vertical',\n",
    "    'input_tank_name': 'Tank 10001',\n",
    "    'input_facility_name': 'Test Oil Terminals, LLC',\n",
    "    'input_facility_address': '1405 Pier C St, Long Beach, CA 90813',\n",
    "    'input_tank_geo': [33.774356, -118.210884]\n",
    "}\n",
    "\n",
    "r.post('http://127.0.0.1:5000/api/vfrtk', json=POST_JSON)"
   ]
  },
  {
   "cell_type": "code",
   "execution_count": null,
   "metadata": {},
   "outputs": [],
   "source": []
  }
 ],
 "metadata": {
  "kernelspec": {
   "display_name": "Python 3",
   "language": "python",
   "name": "python3"
  },
  "language_info": {
   "codemirror_mode": {
    "name": "ipython",
    "version": 3
   },
   "file_extension": ".py",
   "mimetype": "text/x-python",
   "name": "python",
   "nbconvert_exporter": "python",
   "pygments_lexer": "ipython3",
   "version": "3.6.10"
  }
 },
 "nbformat": 4,
 "nbformat_minor": 2
}
