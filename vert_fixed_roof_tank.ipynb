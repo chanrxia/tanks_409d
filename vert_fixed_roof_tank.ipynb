{
 "cells": [
  {
   "cell_type": "markdown",
   "metadata": {},
   "source": [
    "### Tanks 4.09d Vertical Fixed Roof Tank Calculations "
   ]
  },
  {
   "cell_type": "code",
   "execution_count": 2,
   "metadata": {},
   "outputs": [],
   "source": [
    "import math\n",
    "import pandas as pd\n",
    "import numpy as np"
   ]
  },
  {
   "cell_type": "code",
   "execution_count": 3,
   "metadata": {},
   "outputs": [],
   "source": [
    "class VerticalFixedRoofTank:\n",
    "    def __init__(self, tkshellht, skliqht, tkrfslope, diameter,\n",
    "                 ins, solarabs, tax, tan):\n",
    "        \n",
    "        '''\n",
    "        tax: Average Daily Maximum Ambient Temperature, user defined, in deg F.\n",
    "        tan: Average Daily Minimum Ambient Temperature, user defined, in deg F.\n",
    "        solarabs: Tank surface solar absorptance, user defined, depends on tank color.\n",
    "        ins: Average daily total insulation, defined to be 1,491 (btu/ft^2*d) (from Table 7.1-7)\n",
    "        '''\n",
    "        self.tkshellht = tkshellht\n",
    "        self.skliqht = skliqht\n",
    "        self.tkrfslope = tkrfslope\n",
    "        self.diameter = diameter\n",
    "        self.ins = ins\n",
    "        self.solarabs = solarabs\n",
    "        \n",
    "        #Values are in deg. F\n",
    "        self.tax = tax\n",
    "        self.tan = tan\n",
    "        \n",
    "        self.rad_ = (1/2.)*self.diameter\n",
    "        self.hro_ = (1/3.)*self.rad_*self.tkrfslope\n",
    "        \n",
    "        self.hvo = self.tkshellht - self.skliqht + self.hro_\n",
    "        \n",
    "        #Returns values in def. Rankine\n",
    "        self.tax_r = self.tax + 459.7\n",
    "        self.tan_r = self.tan + 459.7\n",
    "\n",
    "        self.taa = (self.tax_r + self.tan_r) * (1/2.)\n",
    "        self.tb = self.taa + (0.003*self.solarabs*self.ins)\n",
    "        \n",
    "    def vv(self):\n",
    "        '''\n",
    "        Returns the vapor space volume of the storage tank.\n",
    "        '''\n",
    "        return (math.pi)*(1/4.)*(self.diameter**2)*self.hvo\n",
    "    \n",
    "    def tla(self):\n",
    "        '''\n",
    "        Returns the Daily Average Liquid Surface Temperature, as caluclated from Eqn: 1-28\n",
    "        '''\n",
    "\n",
    "        return (0.4*self.taa) + (0.6*self.tb) + ((0.005*self.solarabs)*(self.ins))\n",
    "    \n",
    "    def tv(self):\n",
    "        '''\n",
    "        Returns average vapor temperrature, in Rankine as caluclated from Eqn: 1-33\n",
    "        '''\n",
    "        return (0.7*self.taa) + (0.3*self.tb) + (0.009*self.solarabs*self.ins)"
   ]
  },
  {
   "cell_type": "code",
   "execution_count": 4,
   "metadata": {},
   "outputs": [],
   "source": [
    "tank = VerticalFixedRoofTank(tkshellht=12, skliqht=8, tkrfslope=0.0625, diameter=6,\n",
    "                         ins=1491, solarabs=0.25, tax=63.5, tan=37.9)"
   ]
  },
  {
   "cell_type": "code",
   "execution_count": 5,
   "metadata": {},
   "outputs": [
    {
     "data": {
      "text/plain": [
       "114.86448139687681"
      ]
     },
     "execution_count": 5,
     "metadata": {},
     "output_type": "execute_result"
    }
   ],
   "source": [
    "tank.vv()"
   ]
  },
  {
   "cell_type": "code",
   "execution_count": 6,
   "metadata": {},
   "outputs": [
    {
     "data": {
      "text/plain": [
       "512.9346999999999"
      ]
     },
     "execution_count": 6,
     "metadata": {},
     "output_type": "execute_result"
    }
   ],
   "source": [
    "tank.tla()"
   ]
  },
  {
   "cell_type": "code",
   "execution_count": 7,
   "metadata": {},
   "outputs": [
    {
     "data": {
      "text/plain": [
       "514.0902249999999"
      ]
     },
     "execution_count": 7,
     "metadata": {},
     "output_type": "execute_result"
    }
   ],
   "source": [
    "tank.tv()"
   ]
  },
  {
   "cell_type": "code",
   "execution_count": 8,
   "metadata": {},
   "outputs": [],
   "source": [
    "cyclohexane_A = 6.845\n",
    "cyclohexane_B = 1203.5\n",
    "cyclohexane_C = 222.86\n",
    "\n",
    "toluene_A = 7.017\n",
    "toluene_B = 1377.6\n",
    "toluene_C = 222.64\n",
    "\n",
    "benzene_A = 6.906\n",
    "benzene_B = 1211.0\n",
    "benzene_C = 220.79\n",
    "\n",
    "tla_c = (tank.tla() - 491.7)/1.8"
   ]
  },
  {
   "cell_type": "code",
   "execution_count": 9,
   "metadata": {},
   "outputs": [],
   "source": [
    "def calVaporPressure(an_a, an_b, an_c, tla_c):\n",
    "    '''\n",
    "    Returns a list of the calculated vapor pressures based on the Antone coefficients. \n",
    "    Element 0 of the list of the value in PSIA and Element 1 of the list is the value in mmHg.\n",
    "    tla_c: Daily Average Liquid Surface Temperature in deg C.\n",
    "    '''\n",
    "    return [10**(an_a - ((an_b) / (tla_c + an_c)))/ 51.715, 10**(an_a - ((an_b) / (tla_c + an_c)))]"
   ]
  },
  {
   "cell_type": "code",
   "execution_count": 10,
   "metadata": {},
   "outputs": [],
   "source": [
    "phMe_vp = calVaporPressure(an_a=toluene_A, an_b=toluene_B, an_c=toluene_C, tla_c=tla_c)\n",
    "phH_vp = calVaporPressure(an_a=benzene_A, an_b=benzene_B, an_c=benzene_C, tla_c=tla_c)\n",
    "cyH_vp = calVaporPressure(an_a=cyclohexane_A, an_b=cyclohexane_B, an_c=cyclohexane_C, tla_c=tla_c)"
   ]
  },
  {
   "cell_type": "code",
   "execution_count": 11,
   "metadata": {},
   "outputs": [],
   "source": [
    "# TODO: Calculate mole fractions of mixture and elementwise partial pressures."
   ]
  },
  {
   "cell_type": "code",
   "execution_count": 12,
   "metadata": {},
   "outputs": [],
   "source": [
    "comp_amt = [2812.0, 258, 101]\n",
    "comp_mw = [78.11, 92.14, 84.16]\n",
    "comp_name = ['Benzene', 'Toluene', 'Cyclohexane']\n",
    "comp_vp = [phH_vp[0], phMe_vp[0], cyH_vp[0]]\n",
    "\n",
    "df = pd.DataFrame({'component': comp_name, 'amount_lb': comp_amt, 'mw_lbs_mol': comp_mw, 'comp_vp': comp_vp})\n",
    "df['comp_mole'] = df['amount_lb'] / df['mw_lbs_mol']\n",
    "tot_moles = np.sum(df['comp_mole'].tolist())\n",
    "\n",
    "df['comp_mole_xi'] = df['comp_mole'] / tot_moles\n",
    "df['comp_partial'] = df['comp_mole_xi'] * df['comp_vp']\n",
    "vp_mixture = np.sum(df['comp_partial'].tolist())\n",
    "\n",
    "df['comp_vap_mole_frac'] = df['comp_partial'] / vp_mixture\n",
    "df['comp_vapor_mw_xi'] = df['mw_lbs_mol'] * df['comp_vap_mole_frac']\n",
    "vapor_mw = np.sum(df['comp_vapor_mw_xi'].tolist())"
   ]
  },
  {
   "cell_type": "code",
   "execution_count": 13,
   "metadata": {},
   "outputs": [
    {
     "data": {
      "text/html": [
       "<div>\n",
       "<style scoped>\n",
       "    .dataframe tbody tr th:only-of-type {\n",
       "        vertical-align: middle;\n",
       "    }\n",
       "\n",
       "    .dataframe tbody tr th {\n",
       "        vertical-align: top;\n",
       "    }\n",
       "\n",
       "    .dataframe thead th {\n",
       "        text-align: right;\n",
       "    }\n",
       "</style>\n",
       "<table border=\"1\" class=\"dataframe\">\n",
       "  <thead>\n",
       "    <tr style=\"text-align: right;\">\n",
       "      <th></th>\n",
       "      <th>component</th>\n",
       "      <th>amount_lb</th>\n",
       "      <th>mw_lbs_mol</th>\n",
       "      <th>comp_vp</th>\n",
       "      <th>comp_mole</th>\n",
       "      <th>comp_mole_xi</th>\n",
       "      <th>comp_partial</th>\n",
       "      <th>comp_vap_mole_frac</th>\n",
       "      <th>comp_vapor_mw_xi</th>\n",
       "    </tr>\n",
       "  </thead>\n",
       "  <tbody>\n",
       "    <tr>\n",
       "      <td>0</td>\n",
       "      <td>Benzene</td>\n",
       "      <td>2812.0</td>\n",
       "      <td>78.11</td>\n",
       "      <td>0.967678</td>\n",
       "      <td>36.000512</td>\n",
       "      <td>0.899997</td>\n",
       "      <td>0.870907</td>\n",
       "      <td>0.946834</td>\n",
       "      <td>73.957207</td>\n",
       "    </tr>\n",
       "    <tr>\n",
       "      <td>1</td>\n",
       "      <td>Toluene</td>\n",
       "      <td>258.0</td>\n",
       "      <td>92.14</td>\n",
       "      <td>0.267411</td>\n",
       "      <td>2.800087</td>\n",
       "      <td>0.070001</td>\n",
       "      <td>0.018719</td>\n",
       "      <td>0.020351</td>\n",
       "      <td>1.875138</td>\n",
       "    </tr>\n",
       "    <tr>\n",
       "      <td>2</td>\n",
       "      <td>Cyclohexane</td>\n",
       "      <td>101.0</td>\n",
       "      <td>84.16</td>\n",
       "      <td>1.006056</td>\n",
       "      <td>1.200095</td>\n",
       "      <td>0.030002</td>\n",
       "      <td>0.030184</td>\n",
       "      <td>0.032815</td>\n",
       "      <td>2.761709</td>\n",
       "    </tr>\n",
       "  </tbody>\n",
       "</table>\n",
       "</div>"
      ],
      "text/plain": [
       "     component  amount_lb  mw_lbs_mol   comp_vp  comp_mole  comp_mole_xi  \\\n",
       "0      Benzene     2812.0       78.11  0.967678  36.000512      0.899997   \n",
       "1      Toluene      258.0       92.14  0.267411   2.800087      0.070001   \n",
       "2  Cyclohexane      101.0       84.16  1.006056   1.200095      0.030002   \n",
       "\n",
       "   comp_partial  comp_vap_mole_frac  comp_vapor_mw_xi  \n",
       "0      0.870907            0.946834         73.957207  \n",
       "1      0.018719            0.020351          1.875138  \n",
       "2      0.030184            0.032815          2.761709  "
      ]
     },
     "execution_count": 13,
     "metadata": {},
     "output_type": "execute_result"
    }
   ],
   "source": [
    "df"
   ]
  },
  {
   "cell_type": "code",
   "execution_count": 14,
   "metadata": {},
   "outputs": [
    {
     "data": {
      "text/plain": [
       "78.59405480262626"
      ]
     },
     "execution_count": 14,
     "metadata": {},
     "output_type": "execute_result"
    }
   ],
   "source": [
    "vapor_mw"
   ]
  },
  {
   "cell_type": "code",
   "execution_count": 17,
   "metadata": {},
   "outputs": [
    {
     "data": {
      "text/plain": [
       "0.9198100479313434"
      ]
     },
     "execution_count": 17,
     "metadata": {},
     "output_type": "execute_result"
    }
   ],
   "source": [
    "vp_mixture"
   ]
  },
  {
   "cell_type": "code",
   "execution_count": 15,
   "metadata": {},
   "outputs": [],
   "source": [
    "#TODO: Calculate Stock Density (Wv) using Eqn: 1-22"
   ]
  },
  {
   "cell_type": "code",
   "execution_count": 19,
   "metadata": {},
   "outputs": [],
   "source": [
    "def stockDensity(mv, pva, tv):\n",
    "    '''\n",
    "    Uses R = 10.731 psia*ft3 / lb-mole* deg R\n",
    "    Returns stock density in units of lbs/ft3\n",
    "    '''\n",
    "    return ((mv*pva) / (10.731 *tv))"
   ]
  },
  {
   "cell_type": "code",
   "execution_count": 20,
   "metadata": {},
   "outputs": [
    {
     "data": {
      "text/plain": [
       "0.013104133345548597"
      ]
     },
     "execution_count": 20,
     "metadata": {},
     "output_type": "execute_result"
    }
   ],
   "source": [
    "stockDensity(mv=vapor_mw, pva=vp_mixture, tv=tank.tv())"
   ]
  },
  {
   "cell_type": "code",
   "execution_count": null,
   "metadata": {},
   "outputs": [],
   "source": []
  }
 ],
 "metadata": {
  "kernelspec": {
   "display_name": "Python 3",
   "language": "python",
   "name": "python3"
  },
  "language_info": {
   "codemirror_mode": {
    "name": "ipython",
    "version": 3
   },
   "file_extension": ".py",
   "mimetype": "text/x-python",
   "name": "python",
   "nbconvert_exporter": "python",
   "pygments_lexer": "ipython3",
   "version": "3.7.4"
  }
 },
 "nbformat": 4,
 "nbformat_minor": 2
}
