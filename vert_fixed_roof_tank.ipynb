{
 "cells": [
  {
   "cell_type": "markdown",
   "metadata": {},
   "source": [
    "### Tanks 4.09d Vertical Fixed Roof Tank Calculations "
   ]
  },
  {
   "cell_type": "code",
   "execution_count": 1,
   "metadata": {},
   "outputs": [],
   "source": [
    "import math\n",
    "import pandas as pd\n",
    "import numpy as np"
   ]
  },
  {
   "cell_type": "code",
   "execution_count": 22,
   "metadata": {},
   "outputs": [],
   "source": [
    "class VerticalFixedRoofTank:\n",
    "    \n",
    "    def __init__(self, \n",
    "                 tkshellht, \n",
    "                 skliqht, \n",
    "                 tkrfslope, \n",
    "                 diameter,\n",
    "                 ins, \n",
    "                 solarabs, \n",
    "                 tax, \n",
    "                 tan, \n",
    "                 atm_p_local,\n",
    "                throughput,\n",
    "                product_factor):\n",
    "        \n",
    "        '''\n",
    "        tax: Average Daily Maximum Ambient Temperature, user defined, in deg F.\n",
    "        tan: Average Daily Minimum Ambient Temperature, user defined, in deg F.\n",
    "        solarabs: Tank surface solar absorptance, user defined, depends on tank color.\n",
    "        ins: Average daily total insulation, defined to be 1,491 (btu/ft^2*d) (from Table 7.1-7)\n",
    "        '''\n",
    "        self.tkshellht = tkshellht\n",
    "        self.skliqht = skliqht\n",
    "        self.tkrfslope = tkrfslope\n",
    "        self.diameter = diameter\n",
    "        self.ins = ins\n",
    "        self.solarabs = solarabs\n",
    "        self.throughput = throughput\n",
    "        self.product_factor = product_factor\n",
    "        \n",
    "        #Values are in deg. F\n",
    "        self.tax = tax\n",
    "        self.tan = tan\n",
    "        \n",
    "        self.rad_ = (1/2.)*self.diameter\n",
    "        self.hro_ = (1/3.)*self.rad_*self.tkrfslope\n",
    "        \n",
    "        self.hvo = self.tkshellht - self.skliqht + self.hro_\n",
    "        \n",
    "        #Breather vent pressure setting (p_bp: pressure setting; p_bv: vacuum setting)\n",
    "        self.p_bp = 0.03\n",
    "        self.p_bv = -0.03\n",
    "        \n",
    "        #Returns values in def. Rankine\n",
    "        self.tax_r = self.tax + 459.7\n",
    "        self.tan_r = self.tan + 459.7\n",
    "        \n",
    "        self.delta_ta_r = self.tax_r - self.tan_r\n",
    "        \n",
    "        self.taa = (self.tax_r + self.tan_r) * (1/2.)\n",
    "        self.tb = self.taa + (0.003*self.solarabs*self.ins)\n",
    "        \n",
    "        #Atmospheric pressure at facility, user defined from Table 7.1-7.\n",
    "        self.atm_p_local = atm_p_local\n",
    "        \n",
    "    #TODO: Calculate Turnover Factor (KN)\n",
    "    \n",
    "    def kp(self):\n",
    "        if self.product_factor == 'crude oils':\n",
    "            return 0.75\n",
    "        elif self.product_factor == 'other stocks':\n",
    "            return 1.0\n",
    "        #TODO: Raise error if something else is entered.\n",
    "    \n",
    "    '''\n",
    "    See note from Eqn: 1-35, throughput is in gal and \n",
    "    converted to BBL (1 BBL = 42 Gal)\n",
    "    '''\n",
    "    def vq(self):\n",
    "        return 5.614*(self.throughput)*(1/42.)\n",
    "        \n",
    "    def hvo(self):\n",
    "        '''\n",
    "        Returns the Vapor Space Outage in units of Feet as calculated from Eqn: 1-16\n",
    "        '''\n",
    "        return self.hvo\n",
    "        \n",
    "    def vv(self):\n",
    "        '''\n",
    "        Returns the Vapor Space Volume of the storage tank.\n",
    "        '''\n",
    "        return (math.pi)*(1/4.)*(self.diameter**2)*self.hvo\n",
    "    \n",
    "    def tla(self):\n",
    "        '''\n",
    "        Returns the Daily Average Liquid Surface Temperature, as caluclated from Eqn: 1-28\n",
    "        '''\n",
    "\n",
    "        return (0.4*self.taa) + (0.6*self.tb) + ((0.005*self.solarabs)*(self.ins))\n",
    "    \n",
    "    def tv(self):\n",
    "        '''\n",
    "        Returns Average Vapor Temperature, in Rankine as caluclated from Eqn: 1-33\n",
    "        '''\n",
    "        return (0.7*self.taa) + (0.3*self.tb) + (0.009*self.solarabs*self.ins)\n",
    "    \n",
    "    def deltv(self):\n",
    "        '''\n",
    "        Returns the Daily Average Temperature Range, in Rankine as calculated from Eqn: 1-7\n",
    "        '''\n",
    "        return (0.7*self.delta_ta_r) + (0.02*self.solarabs*self.ins)\n",
    "    \n",
    "    def tlx_r(self):\n",
    "        '''\n",
    "        Returns the Maximum Liquid Temperature, in Rankine as calculated from Figure 7.1-17\n",
    "        '''\n",
    "        return ((0.4*self.taa) + (0.6*self.tb) + ((0.005*self.solarabs)*(self.ins))) + (0.25*((0.7*self.delta_ta_r) + (0.02*self.solarabs*self.ins)))\n",
    "    \n",
    "    def tln_r(self):\n",
    "        '''\n",
    "        Returns the Minimum Liquid Temperature, in Rankine as calculated from Figure 7.1-17\n",
    "        '''\n",
    "        return ((0.4*self.taa) + (0.6*self.tb) + ((0.005*self.solarabs)*(self.ins))) - (0.25*((0.7*self.delta_ta_r) + (0.02*self.solarabs*self.ins)))\n",
    "    \n",
    "    def tlx_f(self):\n",
    "        '''\n",
    "        Returns the Maximum Liquid Temperature, in F as calculated from Figure 7.1-17\n",
    "        Assume: 1 R − 459.67 = -458.7 F\n",
    "        '''\n",
    "        return (((0.4*self.taa) + (0.6*self.tb) + ((0.005*self.solarabs)*(self.ins))) + (0.25*((0.7*self.delta_ta_r) + (0.02*self.solarabs*self.ins)))) - 458.67\n",
    "    \n",
    "    def tln_f(self):\n",
    "        '''\n",
    "        Returns the Minimum Liquid Temperature, in F as calculated from Figure 7.1-17\n",
    "        Assume: 1 R − 459.67 = -458.7 F\n",
    "        '''\n",
    "        return (((0.4*self.taa) + (0.6*self.tb) + ((0.005*self.solarabs)*(self.ins))) - (0.25*((0.7*self.delta_ta_r) + (0.02*self.solarabs*self.ins)))) - 458.67\n",
    "    \n",
    "    def bventpress(self):\n",
    "        '''\n",
    "        Returns Breather Vent Pressure, delta_pb, calculated from Eqn: 1-10\n",
    "        '''\n",
    "        return self.p_bp - self.p_bv"
   ]
  },
  {
   "cell_type": "code",
   "execution_count": 25,
   "metadata": {},
   "outputs": [],
   "source": [
    "tank = VerticalFixedRoofTank(tkshellht=12, skliqht=8, \n",
    "                             tkrfslope=0.0625, diameter=6,\n",
    "                             ins=1491, solarabs=0.25, \n",
    "                             tax=63.5, tan=37.9, atm_p_local=12.08, \n",
    "                             throughput=8450, product_factor='crude oils')"
   ]
  },
  {
   "cell_type": "code",
   "execution_count": 26,
   "metadata": {},
   "outputs": [
    {
     "data": {
      "text/plain": [
       "0.75"
      ]
     },
     "execution_count": 26,
     "metadata": {},
     "output_type": "execute_result"
    }
   ],
   "source": [
    "tank.kp()"
   ]
  },
  {
   "cell_type": "code",
   "execution_count": 4,
   "metadata": {},
   "outputs": [
    {
     "data": {
      "text/plain": [
       "1129.4833333333331"
      ]
     },
     "execution_count": 4,
     "metadata": {},
     "output_type": "execute_result"
    }
   ],
   "source": [
    "tank.vq()"
   ]
  },
  {
   "cell_type": "code",
   "execution_count": null,
   "metadata": {},
   "outputs": [],
   "source": [
    "vv = tank.vv()\n",
    "vv"
   ]
  },
  {
   "cell_type": "code",
   "execution_count": null,
   "metadata": {},
   "outputs": [],
   "source": [
    "tank.tla()"
   ]
  },
  {
   "cell_type": "code",
   "execution_count": null,
   "metadata": {},
   "outputs": [],
   "source": [
    "tank.tv()"
   ]
  },
  {
   "cell_type": "code",
   "execution_count": null,
   "metadata": {},
   "outputs": [],
   "source": [
    "tank.deltv()"
   ]
  },
  {
   "cell_type": "code",
   "execution_count": null,
   "metadata": {},
   "outputs": [],
   "source": [
    "tank.tlx_r()"
   ]
  },
  {
   "cell_type": "code",
   "execution_count": null,
   "metadata": {},
   "outputs": [],
   "source": [
    "tank.tln_r()"
   ]
  },
  {
   "cell_type": "code",
   "execution_count": null,
   "metadata": {},
   "outputs": [],
   "source": [
    "tank.tlx_f()"
   ]
  },
  {
   "cell_type": "code",
   "execution_count": null,
   "metadata": {},
   "outputs": [],
   "source": [
    "tank.tln_f()"
   ]
  },
  {
   "cell_type": "code",
   "execution_count": null,
   "metadata": {},
   "outputs": [],
   "source": [
    "tank.bventpress()"
   ]
  },
  {
   "cell_type": "code",
   "execution_count": null,
   "metadata": {},
   "outputs": [],
   "source": [
    "cyclohexane_A = 6.845\n",
    "cyclohexane_B = 1203.5\n",
    "cyclohexane_C = 222.86\n",
    "\n",
    "toluene_A = 7.017\n",
    "toluene_B = 1377.6\n",
    "toluene_C = 222.64\n",
    "\n",
    "benzene_A = 6.906\n",
    "benzene_B = 1211.0\n",
    "benzene_C = 220.79\n",
    "\n",
    "#Converts from Rankine to deg C.\n",
    "tla_c = (tank.tla() - 491.7) * (5/9.)\n",
    "tla_f = (tla_c * (9/5.)) + 32\n",
    "tla_f"
   ]
  },
  {
   "cell_type": "code",
   "execution_count": null,
   "metadata": {},
   "outputs": [],
   "source": [
    "tla_c"
   ]
  },
  {
   "cell_type": "code",
   "execution_count": null,
   "metadata": {},
   "outputs": [],
   "source": [
    "def calVaporPressure(an_a, an_b, an_c, tla_c):\n",
    "    '''\n",
    "    Returns a list of the calculated vapor pressures based on the Antone coefficients. \n",
    "    Element 0 of the list of the value in PSIA and Element 1 of the list is the value in mmHg.\n",
    "    tla_c: Daily Average Liquid Surface Temperature in deg C.\n",
    "    '''\n",
    "    return [10**(an_a - ((an_b) / (tla_c + an_c)))/ 51.715, 10**(an_a - ((an_b) / (tla_c + an_c)))]"
   ]
  },
  {
   "cell_type": "code",
   "execution_count": null,
   "metadata": {},
   "outputs": [],
   "source": [
    "phMe_vp = calVaporPressure(an_a=toluene_A, an_b=toluene_B, an_c=toluene_C, tla_c=tla_c)\n",
    "phH_vp = calVaporPressure(an_a=benzene_A, an_b=benzene_B, an_c=benzene_C, tla_c=tla_c)\n",
    "cyH_vp = calVaporPressure(an_a=cyclohexane_A, an_b=cyclohexane_B, an_c=cyclohexane_C, tla_c=tla_c)"
   ]
  },
  {
   "cell_type": "code",
   "execution_count": null,
   "metadata": {},
   "outputs": [],
   "source": [
    "phMe_vp"
   ]
  },
  {
   "cell_type": "code",
   "execution_count": null,
   "metadata": {},
   "outputs": [],
   "source": [
    "phH_vp"
   ]
  },
  {
   "cell_type": "code",
   "execution_count": null,
   "metadata": {},
   "outputs": [],
   "source": [
    "cyH_vp"
   ]
  },
  {
   "cell_type": "code",
   "execution_count": null,
   "metadata": {},
   "outputs": [],
   "source": [
    "comp_amt = [2812.0, 258, 101]\n",
    "comp_mw = [78.11, 92.14, 84.16]\n",
    "comp_name = ['Benzene', 'Toluene', 'Cyclohexane']\n",
    "comp_vp = [phH_vp[0], phMe_vp[0], cyH_vp[0]]\n",
    "\n",
    "df = pd.DataFrame({'component': comp_name, \n",
    "                   'amount_lb': comp_amt, \n",
    "                   'mw_lbs_mol': comp_mw, \n",
    "                   'comp_vp': comp_vp})\n",
    "\n",
    "df['comp_mole'] = df['amount_lb'] / df['mw_lbs_mol']\n",
    "tot_moles = np.sum(df['comp_mole'].tolist())\n",
    "\n",
    "df['comp_mole_xi'] = df['comp_mole'] / tot_moles\n",
    "df['comp_partial'] = df['comp_mole_xi'] * df['comp_vp']\n",
    "vp_mixture = np.sum(df['comp_partial'].tolist())\n",
    "\n",
    "df['comp_vap_mole_frac'] = df['comp_partial'] / vp_mixture\n",
    "df['comp_vapor_mw_xi'] = df['mw_lbs_mol'] * df['comp_vap_mole_frac']\n",
    "vapor_mw = np.sum(df['comp_vapor_mw_xi'].tolist())"
   ]
  },
  {
   "cell_type": "code",
   "execution_count": null,
   "metadata": {},
   "outputs": [],
   "source": [
    "vapor_mw"
   ]
  },
  {
   "cell_type": "code",
   "execution_count": null,
   "metadata": {},
   "outputs": [],
   "source": [
    "vp_mixture"
   ]
  },
  {
   "cell_type": "code",
   "execution_count": null,
   "metadata": {},
   "outputs": [],
   "source": [
    "def stockDensity(mv, pva, tv):\n",
    "    '''\n",
    "    Uses R = 10.731 psia*ft3 / lb-mole* deg R\n",
    "    Returns stock density in units of lbs/ft3\n",
    "    '''\n",
    "    return ((mv*pva) / (10.731 *tv))"
   ]
  },
  {
   "cell_type": "code",
   "execution_count": null,
   "metadata": {},
   "outputs": [],
   "source": [
    "wv = stockDensity(mv=vapor_mw, pva=vp_mixture, tv=tank.tv())\n",
    "wv"
   ]
  },
  {
   "cell_type": "code",
   "execution_count": null,
   "metadata": {},
   "outputs": [],
   "source": [
    "#TODO: Calculate vapor pressure range.\n",
    "\n",
    "def vapPressureRange(plx, pln):\n",
    "    '''\n",
    "    Returns the vapor pressure range, in PSIA, as calculated from Eqn: 1-10.\n",
    "    '''\n",
    "    return plx - pln"
   ]
  },
  {
   "cell_type": "code",
   "execution_count": null,
   "metadata": {},
   "outputs": [],
   "source": [
    "#Converts from Rankine to deg C.\n",
    "tlx_c = (tank.tlx_r() - 491.7) * (5/9.)\n",
    "tln_c = (tank.tln_r() - 491.7) * (5/9.)"
   ]
  },
  {
   "cell_type": "code",
   "execution_count": null,
   "metadata": {},
   "outputs": [],
   "source": [
    "tlx_c"
   ]
  },
  {
   "cell_type": "code",
   "execution_count": null,
   "metadata": {},
   "outputs": [],
   "source": [
    "tln_c"
   ]
  },
  {
   "cell_type": "code",
   "execution_count": null,
   "metadata": {},
   "outputs": [],
   "source": [
    "phMe_vp_tlx = calVaporPressure(an_a=toluene_A, an_b=toluene_B, an_c=toluene_C, tla_c=tlx_c)\n",
    "phH_vp_tlx = calVaporPressure(an_a=benzene_A, an_b=benzene_B, an_c=benzene_C, tla_c=tlx_c)\n",
    "cyH_vp_tlx = calVaporPressure(an_a=cyclohexane_A, an_b=cyclohexane_B, an_c=cyclohexane_C, tla_c=tlx_c)"
   ]
  },
  {
   "cell_type": "code",
   "execution_count": null,
   "metadata": {},
   "outputs": [],
   "source": [
    "phMe_vp_tln = calVaporPressure(an_a=toluene_A, an_b=toluene_B, an_c=toluene_C, tla_c=tln_c)\n",
    "phH_vp_tln = calVaporPressure(an_a=benzene_A, an_b=benzene_B, an_c=benzene_C, tla_c=tln_c)\n",
    "cyH_vp_tln = calVaporPressure(an_a=cyclohexane_A, an_b=cyclohexane_B, an_c=cyclohexane_C, tla_c=tln_c)"
   ]
  },
  {
   "cell_type": "code",
   "execution_count": null,
   "metadata": {},
   "outputs": [],
   "source": [
    "comp_vp_tln = [phH_vp_tln[0], phMe_vp_tln[0], cyH_vp_tln[0]]\n",
    "comp_vp_tlx = [phH_vp_tlx[0], phMe_vp_tlx[0], cyH_vp_tlx[0]]\n",
    "\n",
    "df['comp_vp_tln'] = comp_vp_tln\n",
    "df['comp_vp_tlx'] = comp_vp_tlx"
   ]
  },
  {
   "cell_type": "code",
   "execution_count": null,
   "metadata": {},
   "outputs": [],
   "source": [
    "df['comp_partial_tln'] = df['comp_mole_xi'] * df['comp_vp_tln']\n",
    "df['comp_partial_tlx'] = df['comp_mole_xi'] * df['comp_vp_tlx']\n",
    "df"
   ]
  },
  {
   "cell_type": "code",
   "execution_count": null,
   "metadata": {},
   "outputs": [],
   "source": [
    "tot_vp_tln = np.sum(df['comp_partial_tln'].tolist())\n",
    "tot_vp_tlx = np.sum(df['comp_partial_tlx'].tolist())"
   ]
  },
  {
   "cell_type": "code",
   "execution_count": null,
   "metadata": {},
   "outputs": [],
   "source": [
    "delpv = vapPressureRange(plx=tot_vp_tlx, pln=tot_vp_tln)"
   ]
  },
  {
   "cell_type": "code",
   "execution_count": null,
   "metadata": {},
   "outputs": [],
   "source": [
    "def vaporSpaceExpansionFactor(deltv, tla, delpv, delbpv, atmp, pva):\n",
    "    '''\n",
    "    Returns the Vapor Space Expansion Factor (ke), as calculated from Eqn: 1-5.\n",
    "    '''\n",
    "    return (deltv/tla) + ((delpv - delbpv) / (atmp - pva))\n",
    "ke = vaporSpaceExpansionFactor(deltv=tank.deltv(), \n",
    "                          tla=tank.tla(), \n",
    "                          delpv=delpv, \n",
    "                          delbpv=tank.bventpress(), \n",
    "                          atmp=12.08, \n",
    "                          pva=vp_mixture)\n",
    "ke"
   ]
  },
  {
   "cell_type": "code",
   "execution_count": null,
   "metadata": {},
   "outputs": [],
   "source": [
    "def ventedVaporSpaceSatFactor(pva, hvo):\n",
    "    return 1/(1 + (0.053*pva*hvo))"
   ]
  },
  {
   "cell_type": "code",
   "execution_count": null,
   "metadata": {},
   "outputs": [],
   "source": [
    "ks = ventedVaporSpaceSatFactor(pva=vp_mixture, hvo=tank.hvo)"
   ]
  },
  {
   "cell_type": "code",
   "execution_count": null,
   "metadata": {},
   "outputs": [],
   "source": [
    "def calculateStandingLosses(vv, wv, ke, ks):\n",
    "    '''\n",
    "    Returns the standing losses from the tank in lbs/year.\n",
    "    '''\n",
    "    return 365*vv*wv*ke*ks"
   ]
  },
  {
   "cell_type": "code",
   "execution_count": null,
   "metadata": {},
   "outputs": [],
   "source": [
    "calculateStandingLosses(vv=vv, wv=wv, ke=ke, ks=ks)"
   ]
  },
  {
   "cell_type": "code",
   "execution_count": null,
   "metadata": {},
   "outputs": [],
   "source": [
    "def calculateWorkingLosses(vq, kn, kp, wv, kb):\n",
    "    '''\n",
    "    Returns the working losses from the tank in lbs/year.\n",
    "    '''\n",
    "    return vq*kn*kp*wv*kb"
   ]
  },
  {
   "cell_type": "code",
   "execution_count": null,
   "metadata": {},
   "outputs": [],
   "source": []
  }
 ],
 "metadata": {
  "kernelspec": {
   "display_name": "Python 3",
   "language": "python",
   "name": "python3"
  },
  "language_info": {
   "codemirror_mode": {
    "name": "ipython",
    "version": 3
   },
   "file_extension": ".py",
   "mimetype": "text/x-python",
   "name": "python",
   "nbconvert_exporter": "python",
   "pygments_lexer": "ipython3",
   "version": "3.7.4"
  }
 },
 "nbformat": 4,
 "nbformat_minor": 2
}
