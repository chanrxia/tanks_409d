{
 "cells": [
  {
   "cell_type": "markdown",
   "metadata": {},
   "source": [
    "### Tanks 4.09d Vertical Fixed Roof Tank Calculations "
   ]
  },
  {
   "cell_type": "code",
   "execution_count": 1,
   "metadata": {},
   "outputs": [],
   "source": [
    "import math"
   ]
  },
  {
   "cell_type": "code",
   "execution_count": 2,
   "metadata": {},
   "outputs": [],
   "source": [
    "class VaporSpaceVolume:\n",
    "    def __init__(self, tkshellht, skliqht, tkrfslope, diameter):\n",
    "        self.tkshellht = tkshellht\n",
    "        self.skliqht = skliqht\n",
    "        self.tkrfslope = tkrfslope\n",
    "        self.diameter = diameter\n",
    "        \n",
    "    def vv(self):\n",
    "        rad_ = (1/2.)*self.diameter\n",
    "        hro_ = (1/3.)*rad_*self.tkrfslope\n",
    "        \n",
    "        hvo = self.tkshellht - self.skliqht + hro_\n",
    "        \n",
    "        return (math.pi)*(1/4.)*(self.diameter**2)*hvo"
   ]
  },
  {
   "cell_type": "code",
   "execution_count": 3,
   "metadata": {},
   "outputs": [],
   "source": [
    "tank_1 = VaporSpaceVolume(tkshellht=12, skliqht=8, tkrfslope=0.0625, diameter=6)"
   ]
  },
  {
   "cell_type": "code",
   "execution_count": 4,
   "metadata": {},
   "outputs": [
    {
     "data": {
      "text/plain": [
       "114.86448139687681"
      ]
     },
     "execution_count": 4,
     "metadata": {},
     "output_type": "execute_result"
    }
   ],
   "source": [
    "tank_1.vv()"
   ]
  },
  {
   "cell_type": "code",
   "execution_count": 5,
   "metadata": {},
   "outputs": [],
   "source": [
    "class AveDailyLiquidSurfaceTemp:\n",
    "    def __init__(self, ins, solarabs, tax, tan):\n",
    "        \n",
    "        '''\n",
    "        tax: Average Daily Maximum Ambient Temperature, user defined, in deg F.\n",
    "        tan: Average Daily Minimum Ambient Temperature, user defined, in deg F.\n",
    "        solarabs: Tank surface solar absorptance, depends on tank color.\n",
    "        ins: Average daily total insulation, defined to be 1,491 (btu/ft^2*d) (from Table 7.1-7)\n",
    "        '''\n",
    "\n",
    "        self.ins = ins\n",
    "        self.solarabs = solarabs\n",
    "        self.tax = tax\n",
    "        self.tan = tan\n",
    "        \n",
    "    def tla(self):\n",
    "        \n",
    "        '''\n",
    "        Returns the Daily Average Liquid Surface Temperature, as caluclated from Eqn: 1-28\n",
    "        '''\n",
    "        \n",
    "        #Returns values in Rankine\n",
    "        tax_r = self.tax + 459.7\n",
    "        tan_r = self.tan + 459.7\n",
    "\n",
    "        taa = (tax_r + tan_r) * (1/2.)\n",
    "        tb = taa + (0.003*self.solarabs*self.ins)\n",
    "\n",
    "        return (0.4*taa) + (0.6*tb) + ((0.005*self.solarabs)*(self.ins))"
   ]
  },
  {
   "cell_type": "code",
   "execution_count": 6,
   "metadata": {},
   "outputs": [],
   "source": [
    "tank_2 = AveDailyLiquidSurfaceTemp(ins=1491, solarabs=0.25, tax=63.5, tan=37.9)"
   ]
  },
  {
   "cell_type": "code",
   "execution_count": 7,
   "metadata": {},
   "outputs": [
    {
     "data": {
      "text/plain": [
       "512.9346999999999"
      ]
     },
     "execution_count": 7,
     "metadata": {},
     "output_type": "execute_result"
    }
   ],
   "source": [
    "tank_2.tla()"
   ]
  },
  {
   "cell_type": "code",
   "execution_count": 8,
   "metadata": {},
   "outputs": [],
   "source": [
    "cyclohexane_A = 6.845\n",
    "cyclohexane_B = 1203.5\n",
    "cyclohexane_C = 222.86\n",
    "\n",
    "toluene_A = 7.017\n",
    "toluene_B = 1377.6\n",
    "toluene_C = 222.64\n",
    "\n",
    "benzene_A = 6.906\n",
    "benzene_B = 1211.0\n",
    "benzene_C = 220.79\n",
    "\n",
    "tla_c = (tank_2.tla() - 491.7)/1.8"
   ]
  },
  {
   "cell_type": "code",
   "execution_count": 9,
   "metadata": {},
   "outputs": [],
   "source": [
    "def calVaporPressure(an_a, an_b, an_c, tla_c):\n",
    "    '''\n",
    "    Returns a list of the calculated vapor pressures based on the Antone coefficients. \n",
    "    Element 0 of the list of the value in PSIA and Element 1 of the list is the value in mmHg.\n",
    "    tla_c: Daily Average Liquid Surface Temperature in deg C.\n",
    "    '''\n",
    "    return [10**(an_a - ((an_b) / (tla_c + an_c)))/ 51.715, 10**(an_a - ((an_b) / (tla_c + an_c)))]"
   ]
  },
  {
   "cell_type": "code",
   "execution_count": 10,
   "metadata": {},
   "outputs": [],
   "source": [
    "phMe_vp = calVaporPressure(an_a=toluene_A, an_b=toluene_B, an_c=toluene_C, tla_c=tla_c)\n",
    "phH_vp = calVaporPressure(an_a=benzene_A, an_b=benzene_B, an_c=benzene_C, tla_c=tla_c)\n",
    "cyH_vp = calVaporPressure(an_a=cyclohexane_A, an_b=cyclohexane_B, an_c=cyclohexane_C, tla_c=tla_c)"
   ]
  },
  {
   "cell_type": "code",
   "execution_count": 11,
   "metadata": {},
   "outputs": [
    {
     "data": {
      "text/plain": [
       "[0.267411029342799, 13.82916138246285]"
      ]
     },
     "execution_count": 11,
     "metadata": {},
     "output_type": "execute_result"
    }
   ],
   "source": [
    "phMe_vp"
   ]
  },
  {
   "cell_type": "code",
   "execution_count": 12,
   "metadata": {},
   "outputs": [
    {
     "data": {
      "text/plain": [
       "[0.9676779840276715, 50.043466943991035]"
      ]
     },
     "execution_count": 12,
     "metadata": {},
     "output_type": "execute_result"
    }
   ],
   "source": [
    "phH_vp"
   ]
  },
  {
   "cell_type": "code",
   "execution_count": 13,
   "metadata": {},
   "outputs": [
    {
     "data": {
      "text/plain": [
       "[1.0060562857068127, 52.02820081532783]"
      ]
     },
     "execution_count": 13,
     "metadata": {},
     "output_type": "execute_result"
    }
   ],
   "source": [
    "cyH_vp"
   ]
  },
  {
   "cell_type": "code",
   "execution_count": 14,
   "metadata": {},
   "outputs": [],
   "source": [
    "# TODO: Calculate mole fractions of mixture and elementwise partial pressures."
   ]
  }
 ],
 "metadata": {
  "kernelspec": {
   "display_name": "Python 3",
   "language": "python",
   "name": "python3"
  },
  "language_info": {
   "codemirror_mode": {
    "name": "ipython",
    "version": 3
   },
   "file_extension": ".py",
   "mimetype": "text/x-python",
   "name": "python",
   "nbconvert_exporter": "python",
   "pygments_lexer": "ipython3",
   "version": "3.7.4"
  }
 },
 "nbformat": 4,
 "nbformat_minor": 2
}
