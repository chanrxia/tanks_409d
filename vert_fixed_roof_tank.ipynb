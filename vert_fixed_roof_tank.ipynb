{
 "cells": [
  {
   "cell_type": "markdown",
   "metadata": {},
   "source": [
    "### Tanks 4.09d Vertical Fixed Roof Tank Calculations "
   ]
  },
  {
   "cell_type": "code",
   "execution_count": 3,
   "metadata": {},
   "outputs": [
    {
     "data": {
      "text/plain": [
       "<Response [200]>"
      ]
     },
     "execution_count": 3,
     "metadata": {},
     "output_type": "execute_result"
    }
   ],
   "source": [
    "import requests as r\n",
    "\n",
    "POST_JSON = {\n",
    "    'input_city': 'Cape Hatteras, North Carolina',\n",
    "    'input_tank': [12, 8, 6],\n",
    "    'input_contents': [8450, 'other stocks', 11.5, 4.5],\n",
    "    'input_chem': ['Cyclohexane', 'Benzene', 'Toluene'],\n",
    "    'input_qty': [101, 2812, 258],\n",
    "    'input_default': [0.0625, 1491, 1],\n",
    "    'input_condition': ['White', 'None', 'Average']\n",
    "}\n",
    "\n",
    "r.post('http://127.0.0.1:5000/api/vfrtk', json=POST_JSON)"
   ]
  },
  {
   "cell_type": "code",
   "execution_count": null,
   "metadata": {},
   "outputs": [],
   "source": []
  }
 ],
 "metadata": {
  "kernelspec": {
   "display_name": "Python 3",
   "language": "python",
   "name": "python3"
  },
  "language_info": {
   "codemirror_mode": {
    "name": "ipython",
    "version": 3
   },
   "file_extension": ".py",
   "mimetype": "text/x-python",
   "name": "python",
   "nbconvert_exporter": "python",
   "pygments_lexer": "ipython3",
   "version": "3.6.10"
  }
 },
 "nbformat": 4,
 "nbformat_minor": 2
}
