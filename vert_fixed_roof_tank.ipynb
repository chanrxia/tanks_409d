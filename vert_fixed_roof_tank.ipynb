{
 "cells": [
  {
   "cell_type": "markdown",
   "metadata": {},
   "source": [
    "### Tanks 4.09d Vertical Fixed Roof Tank Calculations "
   ]
  },
  {
   "cell_type": "code",
   "execution_count": 1,
   "metadata": {},
   "outputs": [],
   "source": [
    "import math\n",
    "import pandas as pd\n",
    "import numpy as np"
   ]
  },
  {
   "cell_type": "code",
   "execution_count": 2,
   "metadata": {},
   "outputs": [],
   "source": [
    "class VerticalFixedRoofTank:\n",
    "    \n",
    "    def __init__(self, \n",
    "                 tkshellht, \n",
    "                 skliqht, \n",
    "                 tkrfslope, \n",
    "                 diameter,\n",
    "                 ins, \n",
    "                 solarabs, \n",
    "                 tax, \n",
    "                 tan, \n",
    "                 atm_p_local,\n",
    "                 throughput,\n",
    "                 product_factor,\n",
    "                 hlx,\n",
    "                 hln,\n",
    "                 ventsetting):\n",
    "        \n",
    "        '''\n",
    "        tax: Average Daily Maximum Ambient Temperature, user defined, in deg F.\n",
    "        tan: Average Daily Minimum Ambient Temperature, user defined, in deg F.\n",
    "        solarabs: Tank surface solar absorptance, user defined, depends on tank color.\n",
    "        ins: Average daily total insulation, defined to be 1,491 (btu/ft^2*d) (from Table 7.1-7)\n",
    "        '''\n",
    "        self.tkshellht = tkshellht\n",
    "        self.skliqht = skliqht\n",
    "        self.tkrfslope = tkrfslope\n",
    "        self.diameter = diameter\n",
    "        self.ins = ins\n",
    "        self.solarabs = solarabs\n",
    "        self.throughput = throughput\n",
    "        self.product_factor = product_factor\n",
    "        self.hlx = hlx\n",
    "        self.hln = hln\n",
    "        self.ventsetting = 1\n",
    "        \n",
    "        #Values are in deg. F\n",
    "        self.tax = tax\n",
    "        self.tan = tan\n",
    "        \n",
    "        self.rad_ = (1/2.)*self.diameter\n",
    "        self.hro_ = (1/3.)*self.rad_*self.tkrfslope\n",
    "        \n",
    "        self.hvo = self.tkshellht - self.skliqht + self.hro_\n",
    "        \n",
    "        #Breather vent pressure setting (p_bp: pressure setting; p_bv: vacuum setting)\n",
    "        self.p_bp = 0.03\n",
    "        self.p_bv = -0.03\n",
    "        \n",
    "        #Returns values in deg. Rankine\n",
    "        self.tax_r = self.tax + 459.7\n",
    "        self.tan_r = self.tan + 459.7\n",
    "        \n",
    "        self.delta_ta_r = self.tax_r - self.tan_r\n",
    "        \n",
    "        self.taa = (self.tax_r + self.tan_r) * (1/2.)\n",
    "        self.tb = self.taa + (0.003*self.solarabs*self.ins)\n",
    "        \n",
    "        #Atmospheric pressure at facility, user defined from Table 7.1-7.\n",
    "        self.atm_p_local = atm_p_local\n",
    "        \n",
    "    def kb(self):\n",
    "        return self.ventsetting\n",
    "    \n",
    "    def kn(self):\n",
    "        '''\n",
    "        Returns the turnover factor, as calculated \n",
    "        in Eqn: 1-36 and 1-37.\n",
    "        '''\n",
    "        delta_liquid_height = (self.hlx - self.hln)\n",
    "        turnover_factor_n = (5.614*(self.throughput)*(1/42.))\n",
    "        turnover_factor_d = ((math.pi/4.)*(self.diameter)**2)\n",
    "        turnover_factor = turnover_factor_n/turnover_factor_d\n",
    "        \n",
    "        n = turnover_factor/delta_liquid_height\n",
    "        \n",
    "        if n <= 36:\n",
    "            return 1\n",
    "        else:\n",
    "            return n\n",
    "    \n",
    "    def kp(self):\n",
    "        '''\n",
    "        Returns product factor, dimensionless constant,\n",
    "        based on product type.\n",
    "        '''\n",
    "        if self.product_factor == 'crude oils':\n",
    "            return 0.75\n",
    "        elif self.product_factor == 'other stocks':\n",
    "            return 1.0\n",
    "        else:\n",
    "            raise ValueError('Incorrect product type, \\\n",
    "            must be either crude oils or other stocks')\n",
    "    \n",
    "    '''\n",
    "    See note from Eqn: 1-35, throughput is in gal and \n",
    "    converted to BBL (1 BBL = 42 Gal)\n",
    "    '''\n",
    "    def vq(self):\n",
    "        '''\n",
    "        Returns net working loss throughput, in BBL, \n",
    "        as calculated by Eqn: 1-35.\n",
    "        '''\n",
    "        return 5.614*(self.throughput)*(1/42.)\n",
    "        \n",
    "    def hvo(self):\n",
    "        '''\n",
    "        Returns the Vapor Space Outage in units of \n",
    "        Feet as calculated from Eqn: 1-16\n",
    "        '''\n",
    "        return self.hvo\n",
    "        \n",
    "    def vv(self):\n",
    "        '''\n",
    "        Returns the Vapor Space Volume of the storage tank.\n",
    "        '''\n",
    "        return (math.pi)*(1/4.)*(self.diameter**2)*self.hvo\n",
    "    \n",
    "    def tla(self):\n",
    "        '''\n",
    "        Returns the Daily Average Liquid Surface Temperature, as caluclated from Eqn: 1-28\n",
    "        '''\n",
    "\n",
    "        return (0.4*self.taa) + (0.6*self.tb) + ((0.005*self.solarabs)*(self.ins))\n",
    "    \n",
    "    def tv(self):\n",
    "        '''\n",
    "        Returns Average Vapor Temperature, in Rankine as caluclated from Eqn: 1-33\n",
    "        '''\n",
    "        return (0.7*self.taa) + (0.3*self.tb) + (0.009*self.solarabs*self.ins)\n",
    "    \n",
    "    def deltv(self):\n",
    "        '''\n",
    "        Returns the Daily Average Temperature Range, in Rankine as calculated from Eqn: 1-7\n",
    "        '''\n",
    "        return (0.7*self.delta_ta_r) + (0.02*self.solarabs*self.ins)\n",
    "    \n",
    "    def tlx_r(self):\n",
    "        '''\n",
    "        Returns the Maximum Liquid Temperature, in Rankine as calculated from Figure 7.1-17\n",
    "        '''\n",
    "        return ((0.4*self.taa) + (0.6*self.tb) + ((0.005*self.solarabs)*(self.ins))) + (0.25*((0.7*self.delta_ta_r) + (0.02*self.solarabs*self.ins)))\n",
    "    \n",
    "    def tln_r(self):\n",
    "        '''\n",
    "        Returns the Minimum Liquid Temperature, in Rankine as calculated from Figure 7.1-17\n",
    "        '''\n",
    "        return ((0.4*self.taa) + (0.6*self.tb) + ((0.005*self.solarabs)*(self.ins))) - (0.25*((0.7*self.delta_ta_r) + (0.02*self.solarabs*self.ins)))\n",
    "    \n",
    "    def tlx_f(self):\n",
    "        '''\n",
    "        Returns the Maximum Liquid Temperature, in F as calculated from Figure 7.1-17\n",
    "        Assume: 1 R − 459.67 = -458.7 F\n",
    "        '''\n",
    "        return (((0.4*self.taa) + (0.6*self.tb) + ((0.005*self.solarabs)*(self.ins))) + (0.25*((0.7*self.delta_ta_r) + (0.02*self.solarabs*self.ins)))) - 458.67\n",
    "    \n",
    "    def tln_f(self):\n",
    "        '''\n",
    "        Returns the Minimum Liquid Temperature, in F as calculated from Figure 7.1-17\n",
    "        Assume: 1 R − 459.67 = -458.7 F\n",
    "        '''\n",
    "        return (((0.4*self.taa) + (0.6*self.tb) + ((0.005*self.solarabs)*(self.ins))) - (0.25*((0.7*self.delta_ta_r) + (0.02*self.solarabs*self.ins)))) - 458.67\n",
    "    \n",
    "    def bventpress(self):\n",
    "        '''\n",
    "        Returns Breather Vent Pressure, delta_pb, calculated from Eqn: 1-10\n",
    "        '''\n",
    "        return self.p_bp - self.p_bv"
   ]
  },
  {
   "cell_type": "code",
   "execution_count": 3,
   "metadata": {},
   "outputs": [],
   "source": [
    "def stockDensity(mv, pva, tv):\n",
    "    '''\n",
    "    Uses R = 10.731 psia*ft3 / lb-mole* deg R\n",
    "    Returns stock density in units of lbs/ft3\n",
    "    '''\n",
    "    return ((mv*pva) / (10.731 *tv))"
   ]
  },
  {
   "cell_type": "code",
   "execution_count": 4,
   "metadata": {},
   "outputs": [],
   "source": [
    "def vapPressureRange(plx, pln):\n",
    "    '''\n",
    "    Returns the vapor pressure range, in PSIA, as calculated from Eqn: 1-10.\n",
    "    '''\n",
    "    return plx - pln"
   ]
  },
  {
   "cell_type": "code",
   "execution_count": 5,
   "metadata": {},
   "outputs": [],
   "source": [
    "def vaporSpaceExpansionFactor(deltv, tla, delpv, delbpv, atmp, pva):\n",
    "    '''\n",
    "    Returns the Vapor Space Expansion Factor (ke), as calculated from Eqn: 1-5.\n",
    "    '''\n",
    "    return (deltv/tla) + ((delpv - delbpv) / (atmp - pva))"
   ]
  },
  {
   "cell_type": "code",
   "execution_count": 6,
   "metadata": {},
   "outputs": [],
   "source": [
    "def ventedVaporSpaceSatFactor(pva, hvo):\n",
    "    return 1/(1 + (0.053*pva*hvo))"
   ]
  },
  {
   "cell_type": "code",
   "execution_count": 7,
   "metadata": {},
   "outputs": [],
   "source": [
    "def calculateStandingLosses(vv, wv, ke, ks):\n",
    "    '''\n",
    "    Returns the standing losses from the tank in lbs/year.\n",
    "    '''\n",
    "    return 365*vv*wv*ke*ks"
   ]
  },
  {
   "cell_type": "code",
   "execution_count": 8,
   "metadata": {},
   "outputs": [],
   "source": [
    "def calculateWorkingLosses(vq, kn, kp, wv, kb):\n",
    "    '''\n",
    "    Returns the working losses from the tank in lbs/year.\n",
    "    '''\n",
    "    return vq*kn*kp*wv*kb"
   ]
  },
  {
   "cell_type": "code",
   "execution_count": 9,
   "metadata": {},
   "outputs": [],
   "source": [
    "tank = VerticalFixedRoofTank(tkshellht=12, \n",
    "                             skliqht=8, \n",
    "                             tkrfslope=0.0625, \n",
    "                             diameter=6,\n",
    "                             ins=1491, \n",
    "                             solarabs=0.25, \n",
    "                             tax=63.5, \n",
    "                             tan=37.9, \n",
    "                             atm_p_local=12.08, \n",
    "                             throughput=8450, \n",
    "                             product_factor='other stocks',\n",
    "                             hlx=11.5, \n",
    "                             hln=4.5, \n",
    "                             ventsetting=1)"
   ]
  },
  {
   "cell_type": "code",
   "execution_count": 10,
   "metadata": {},
   "outputs": [],
   "source": [
    "#Converts from Rankine to deg C.\n",
    "tla_c = (tank.tla() - 491.7) * (5/9.)\n",
    "\n",
    "#Converts from Rankine to deg C.\n",
    "tlx_c = (tank.tlx_r() - 491.7) * (5/9.)\n",
    "tln_c = (tank.tln_r() - 491.7) * (5/9.)"
   ]
  },
  {
   "cell_type": "code",
   "execution_count": 11,
   "metadata": {},
   "outputs": [],
   "source": [
    "#Comes from SQL Database and is needed to build mixture. User would define the components in mixture.\n",
    "cyH = ['Cyclohexane', '110-82-7', 84.16, 6.845, 1203.5, 222.86]\n",
    "phMe = ['Toluene', '108-88-3', 92.14, 7.017, 1377.6, 222.64]\n",
    "phH = ['Benzene', '71-43-2', 78.11, 6.906, 1211.0, 220.79]\n",
    "header = ['component', 'cas_no', 'mw', 'antoine_coef_a', 'antoine_coef_b', 'antoine_coef_c']\n",
    "\n",
    "df1 = pd.DataFrame([phH, phMe, cyH], columns=header)"
   ]
  },
  {
   "cell_type": "code",
   "execution_count": 12,
   "metadata": {},
   "outputs": [],
   "source": [
    "df1['comp_vp'] = 10**(df1['antoine_coef_a'] - ((df1['antoine_coef_b'])/(tla_c + (df1['antoine_coef_c']))))/ 51.715\n",
    "df1['comp_vp_tlx'] = 10**(df1['antoine_coef_a'] - ((df1['antoine_coef_b'])/(tlx_c + (df1['antoine_coef_c']))))/ 51.715\n",
    "df1['comp_vp_tln'] = 10**(df1['antoine_coef_a'] - ((df1['antoine_coef_b'])/(tln_c + (df1['antoine_coef_c']))))/ 51.715"
   ]
  },
  {
   "cell_type": "code",
   "execution_count": 13,
   "metadata": {},
   "outputs": [],
   "source": [
    "phH1 = ['Benzene', '71-43-2', 78.11, 2812]\n",
    "phMe1 = ['Toluene', '108-88-3', 92.14, 258]\n",
    "cyH1 = ['Cyclohexane', '110-82-7', 84.16, 101]\n",
    "data_list = [phH1, phMe1, cyH1]\n",
    "header = ['component', 'cas_no', 'mw', 'comp_amt']\n",
    "df2 = pd.DataFrame(data_list, columns=header)"
   ]
  },
  {
   "cell_type": "code",
   "execution_count": 14,
   "metadata": {},
   "outputs": [],
   "source": [
    "df = pd.DataFrame({'component': df2['component'].tolist(),\n",
    "                   'cas_no': df2['cas_no'].tolist(),\n",
    "                   'amount_lb': df2['comp_amt'].tolist(), \n",
    "                   'mw_lbs_mol': df2['mw'].tolist(), \n",
    "                   'comp_vp': df1['comp_vp'].tolist()})\n",
    "\n",
    "df['comp_mole'] = df['amount_lb'] / df['mw_lbs_mol']\n",
    "tot_moles = np.sum(df['comp_mole'].tolist())\n",
    "\n",
    "df['comp_mole_xi'] = df['comp_mole'] / tot_moles\n",
    "df['comp_partial'] = df['comp_mole_xi'] * df['comp_vp']\n",
    "vp_mixture = np.sum(df['comp_partial'].tolist())\n",
    "\n",
    "df['comp_vap_mole_frac'] = df['comp_partial'] / vp_mixture\n",
    "df['comp_vapor_mw_xi'] = df['mw_lbs_mol'] * df['comp_vap_mole_frac']\n",
    "vapor_mw = np.sum(df['comp_vapor_mw_xi'].tolist())\n",
    "df['comp_vp_tln'] = df1['comp_vp_tln'].tolist()\n",
    "df['comp_vp_tlx'] = df1['comp_vp_tlx'].tolist()\n",
    "df['comp_partial_tln'] = df['comp_mole_xi'] * df['comp_vp_tln']\n",
    "df['comp_partial_tlx'] = df['comp_mole_xi'] * df['comp_vp_tlx']"
   ]
  },
  {
   "cell_type": "code",
   "execution_count": 15,
   "metadata": {},
   "outputs": [],
   "source": [
    "wv = stockDensity(mv=vapor_mw, pva=vp_mixture, tv=tank.tv())"
   ]
  },
  {
   "cell_type": "code",
   "execution_count": 16,
   "metadata": {},
   "outputs": [],
   "source": [
    "tot_vp_tln = np.sum(df['comp_partial_tln'].tolist())\n",
    "tot_vp_tlx = np.sum(df['comp_partial_tlx'].tolist())"
   ]
  },
  {
   "cell_type": "code",
   "execution_count": 17,
   "metadata": {},
   "outputs": [],
   "source": [
    "delpv = vapPressureRange(plx=tot_vp_tlx, pln=tot_vp_tln)"
   ]
  },
  {
   "cell_type": "code",
   "execution_count": 18,
   "metadata": {},
   "outputs": [],
   "source": [
    "ke = vaporSpaceExpansionFactor(deltv=tank.deltv(), \n",
    "                          tla=tank.tla(), \n",
    "                          delpv=delpv, \n",
    "                          delbpv=tank.bventpress(), \n",
    "                          atmp=12.08, \n",
    "                          pva=vp_mixture)"
   ]
  },
  {
   "cell_type": "code",
   "execution_count": 19,
   "metadata": {},
   "outputs": [],
   "source": [
    "ks = ventedVaporSpaceSatFactor(pva=vp_mixture, hvo=tank.hvo)"
   ]
  },
  {
   "cell_type": "code",
   "execution_count": 20,
   "metadata": {},
   "outputs": [],
   "source": [
    "standing = calculateStandingLosses(vv=tank.vv(), wv=wv, ke=ke, ks=ks)"
   ]
  },
  {
   "cell_type": "code",
   "execution_count": 21,
   "metadata": {},
   "outputs": [],
   "source": [
    "working = calculateWorkingLosses(vq=tank.vq(), kn=tank.kn(), kp=tank.kp(), wv=wv, kb=tank.kb())"
   ]
  },
  {
   "cell_type": "code",
   "execution_count": 22,
   "metadata": {},
   "outputs": [
    {
     "data": {
      "text/plain": [
       "48.81738506656809"
      ]
     },
     "execution_count": 22,
     "metadata": {},
     "output_type": "execute_result"
    }
   ],
   "source": [
    "total_losses = standing + working\n",
    "total_losses"
   ]
  }
 ],
 "metadata": {
  "kernelspec": {
   "display_name": "Python 3",
   "language": "python",
   "name": "python3"
  },
  "language_info": {
   "codemirror_mode": {
    "name": "ipython",
    "version": 3
   },
   "file_extension": ".py",
   "mimetype": "text/x-python",
   "name": "python",
   "nbconvert_exporter": "python",
   "pygments_lexer": "ipython3",
   "version": "3.7.4"
  }
 },
 "nbformat": 4,
 "nbformat_minor": 2
}
