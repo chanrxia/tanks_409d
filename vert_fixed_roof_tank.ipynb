{
 "cells": [
  {
   "cell_type": "markdown",
   "metadata": {},
   "source": [
    "### Tanks 4.09d Vertical Fixed Roof Tank Calculations "
   ]
  },
  {
   "cell_type": "code",
   "execution_count": 1,
   "metadata": {},
   "outputs": [],
   "source": [
    "import math\n",
    "import pandas as pd\n",
    "import numpy as np"
   ]
  },
  {
   "cell_type": "code",
   "execution_count": 2,
   "metadata": {},
   "outputs": [],
   "source": [
    "class VerticalFixedRoofTank:\n",
    "    \n",
    "    def __init__(self, \n",
    "                 tkshellht, \n",
    "                 skliqht, \n",
    "                 tkrfslope, \n",
    "                 diameter,\n",
    "                 ins, \n",
    "                 solarabs, \n",
    "                 tax, \n",
    "                 tan, \n",
    "                 atm_p_local):\n",
    "        \n",
    "        '''\n",
    "        tax: Average Daily Maximum Ambient Temperature, user defined, in deg F.\n",
    "        tan: Average Daily Minimum Ambient Temperature, user defined, in deg F.\n",
    "        solarabs: Tank surface solar absorptance, user defined, depends on tank color.\n",
    "        ins: Average daily total insulation, defined to be 1,491 (btu/ft^2*d) (from Table 7.1-7)\n",
    "        '''\n",
    "        self.tkshellht = tkshellht\n",
    "        self.skliqht = skliqht\n",
    "        self.tkrfslope = tkrfslope\n",
    "        self.diameter = diameter\n",
    "        self.ins = ins\n",
    "        self.solarabs = solarabs\n",
    "        \n",
    "        #Values are in deg. F\n",
    "        self.tax = tax\n",
    "        self.tan = tan\n",
    "        \n",
    "        self.rad_ = (1/2.)*self.diameter\n",
    "        self.hro_ = (1/3.)*self.rad_*self.tkrfslope\n",
    "        \n",
    "        self.hvo = self.tkshellht - self.skliqht + self.hro_\n",
    "        \n",
    "        #Breather vent pressure setting (p_bp: pressure setting; p_bv: vacuum setting)\n",
    "        self.p_bp = 0.03\n",
    "        self.p_bv = -0.03\n",
    "        \n",
    "        #Returns values in def. Rankine\n",
    "        self.tax_r = self.tax + 459.7\n",
    "        self.tan_r = self.tan + 459.7\n",
    "        \n",
    "        self.delta_ta_r = self.tax_r - self.tan_r\n",
    "        \n",
    "        self.taa = (self.tax_r + self.tan_r) * (1/2.)\n",
    "        self.tb = self.taa + (0.003*self.solarabs*self.ins)\n",
    "        \n",
    "        #Atmospheric pressure at facility, user defined from Table 7.1-7.\n",
    "        self.atm_p_local = atm_p_local\n",
    "        \n",
    "    def hvo(self):\n",
    "        '''\n",
    "        Returns the Vapor Space Outage in units of Feet as calculated from Eqn: 1-16\n",
    "        '''\n",
    "        return self.hvo\n",
    "        \n",
    "    def vv(self):\n",
    "        '''\n",
    "        Returns the Vapor Space Volume of the storage tank.\n",
    "        '''\n",
    "        return (math.pi)*(1/4.)*(self.diameter**2)*self.hvo\n",
    "    \n",
    "    def tla(self):\n",
    "        '''\n",
    "        Returns the Daily Average Liquid Surface Temperature, as caluclated from Eqn: 1-28\n",
    "        '''\n",
    "\n",
    "        return (0.4*self.taa) + (0.6*self.tb) + ((0.005*self.solarabs)*(self.ins))\n",
    "    \n",
    "    def tv(self):\n",
    "        '''\n",
    "        Returns Average Vapor Temperature, in Rankine as caluclated from Eqn: 1-33\n",
    "        '''\n",
    "        return (0.7*self.taa) + (0.3*self.tb) + (0.009*self.solarabs*self.ins)\n",
    "    \n",
    "    def deltv(self):\n",
    "        '''\n",
    "        Returns the Daily Average Temperature Range, in Rankine as calculated from Eqn: 1-7\n",
    "        '''\n",
    "        return (0.7*self.delta_ta_r) + (0.02*self.solarabs*self.ins)\n",
    "    \n",
    "    def tlx_r(self):\n",
    "        '''\n",
    "        Returns the Maximum Liquid Temperature, in Rankine as calculated from Figure 7.1-17\n",
    "        '''\n",
    "        return ((0.4*self.taa) + (0.6*self.tb) + ((0.005*self.solarabs)*(self.ins))) + (0.25*((0.7*self.delta_ta_r) + (0.02*self.solarabs*self.ins)))\n",
    "    \n",
    "    def tln_r(self):\n",
    "        '''\n",
    "        Returns the Minimum Liquid Temperature, in Rankine as calculated from Figure 7.1-17\n",
    "        '''\n",
    "        return ((0.4*self.taa) + (0.6*self.tb) + ((0.005*self.solarabs)*(self.ins))) - (0.25*((0.7*self.delta_ta_r) + (0.02*self.solarabs*self.ins)))\n",
    "    \n",
    "    def tlx_f(self):\n",
    "        '''\n",
    "        Returns the Maximum Liquid Temperature, in F as calculated from Figure 7.1-17\n",
    "        Assume: 1 R − 459.67 = -458.7 F\n",
    "        '''\n",
    "        return (((0.4*self.taa) + (0.6*self.tb) + ((0.005*self.solarabs)*(self.ins))) + (0.25*((0.7*self.delta_ta_r) + (0.02*self.solarabs*self.ins)))) - 458.67\n",
    "    \n",
    "    def tln_f(self):\n",
    "        '''\n",
    "        Returns the Minimum Liquid Temperature, in F as calculated from Figure 7.1-17\n",
    "        Assume: 1 R − 459.67 = -458.7 F\n",
    "        '''\n",
    "        return (((0.4*self.taa) + (0.6*self.tb) + ((0.005*self.solarabs)*(self.ins))) - (0.25*((0.7*self.delta_ta_r) + (0.02*self.solarabs*self.ins)))) - 458.67\n",
    "    \n",
    "    def bventpress(self):\n",
    "        '''\n",
    "        Returns Breather Vent Pressure, delta_pb, calculated from Eqn: 1-10\n",
    "        '''\n",
    "        return self.p_bp - self.p_bv"
   ]
  },
  {
   "cell_type": "code",
   "execution_count": 3,
   "metadata": {},
   "outputs": [],
   "source": [
    "tank = VerticalFixedRoofTank(tkshellht=12, skliqht=8, \n",
    "                             tkrfslope=0.0625, diameter=6,\n",
    "                             ins=1491, solarabs=0.25, \n",
    "                             tax=63.5, tan=37.9, atm_p_local=12.08)"
   ]
  },
  {
   "cell_type": "code",
   "execution_count": 4,
   "metadata": {},
   "outputs": [
    {
     "data": {
      "text/plain": [
       "114.86448139687681"
      ]
     },
     "execution_count": 4,
     "metadata": {},
     "output_type": "execute_result"
    }
   ],
   "source": [
    "vv = tank.vv()\n",
    "vv"
   ]
  },
  {
   "cell_type": "code",
   "execution_count": 5,
   "metadata": {},
   "outputs": [
    {
     "data": {
      "text/plain": [
       "512.9346999999999"
      ]
     },
     "execution_count": 5,
     "metadata": {},
     "output_type": "execute_result"
    }
   ],
   "source": [
    "tank.tla()"
   ]
  },
  {
   "cell_type": "code",
   "execution_count": 6,
   "metadata": {},
   "outputs": [
    {
     "data": {
      "text/plain": [
       "514.0902249999999"
      ]
     },
     "execution_count": 6,
     "metadata": {},
     "output_type": "execute_result"
    }
   ],
   "source": [
    "tank.tv()"
   ]
  },
  {
   "cell_type": "code",
   "execution_count": 7,
   "metadata": {},
   "outputs": [
    {
     "data": {
      "text/plain": [
       "25.375000000000057"
      ]
     },
     "execution_count": 7,
     "metadata": {},
     "output_type": "execute_result"
    }
   ],
   "source": [
    "tank.deltv()"
   ]
  },
  {
   "cell_type": "code",
   "execution_count": 8,
   "metadata": {},
   "outputs": [
    {
     "data": {
      "text/plain": [
       "519.2784499999999"
      ]
     },
     "execution_count": 8,
     "metadata": {},
     "output_type": "execute_result"
    }
   ],
   "source": [
    "tank.tlx_r()"
   ]
  },
  {
   "cell_type": "code",
   "execution_count": 9,
   "metadata": {},
   "outputs": [
    {
     "data": {
      "text/plain": [
       "506.5909499999999"
      ]
     },
     "execution_count": 9,
     "metadata": {},
     "output_type": "execute_result"
    }
   ],
   "source": [
    "tank.tln_r()"
   ]
  },
  {
   "cell_type": "code",
   "execution_count": 10,
   "metadata": {},
   "outputs": [
    {
     "data": {
      "text/plain": [
       "60.60844999999989"
      ]
     },
     "execution_count": 10,
     "metadata": {},
     "output_type": "execute_result"
    }
   ],
   "source": [
    "tank.tlx_f()"
   ]
  },
  {
   "cell_type": "code",
   "execution_count": 11,
   "metadata": {},
   "outputs": [
    {
     "data": {
      "text/plain": [
       "47.92094999999989"
      ]
     },
     "execution_count": 11,
     "metadata": {},
     "output_type": "execute_result"
    }
   ],
   "source": [
    "tank.tln_f()"
   ]
  },
  {
   "cell_type": "code",
   "execution_count": 12,
   "metadata": {},
   "outputs": [
    {
     "data": {
      "text/plain": [
       "0.06"
      ]
     },
     "execution_count": 12,
     "metadata": {},
     "output_type": "execute_result"
    }
   ],
   "source": [
    "tank.bventpress()"
   ]
  },
  {
   "cell_type": "code",
   "execution_count": 13,
   "metadata": {},
   "outputs": [
    {
     "data": {
      "text/plain": [
       "53.23469999999992"
      ]
     },
     "execution_count": 13,
     "metadata": {},
     "output_type": "execute_result"
    }
   ],
   "source": [
    "cyclohexane_A = 6.845\n",
    "cyclohexane_B = 1203.5\n",
    "cyclohexane_C = 222.86\n",
    "\n",
    "toluene_A = 7.017\n",
    "toluene_B = 1377.6\n",
    "toluene_C = 222.64\n",
    "\n",
    "benzene_A = 6.906\n",
    "benzene_B = 1211.0\n",
    "benzene_C = 220.79\n",
    "\n",
    "#Converts from Rankine to deg C.\n",
    "tla_c = (tank.tla() - 491.7) * (5/9.)\n",
    "tla_f = (tla_c * (9/5.)) + 32\n",
    "tla_f"
   ]
  },
  {
   "cell_type": "code",
   "execution_count": 14,
   "metadata": {},
   "outputs": [
    {
     "data": {
      "text/plain": [
       "11.797055555555511"
      ]
     },
     "execution_count": 14,
     "metadata": {},
     "output_type": "execute_result"
    }
   ],
   "source": [
    "tla_c"
   ]
  },
  {
   "cell_type": "code",
   "execution_count": 15,
   "metadata": {},
   "outputs": [],
   "source": [
    "def calVaporPressure(an_a, an_b, an_c, tla_c):\n",
    "    '''\n",
    "    Returns a list of the calculated vapor pressures based on the Antone coefficients. \n",
    "    Element 0 of the list of the value in PSIA and Element 1 of the list is the value in mmHg.\n",
    "    tla_c: Daily Average Liquid Surface Temperature in deg C.\n",
    "    '''\n",
    "    return [10**(an_a - ((an_b) / (tla_c + an_c)))/ 51.715, 10**(an_a - ((an_b) / (tla_c + an_c)))]"
   ]
  },
  {
   "cell_type": "code",
   "execution_count": 16,
   "metadata": {},
   "outputs": [],
   "source": [
    "phMe_vp = calVaporPressure(an_a=toluene_A, an_b=toluene_B, an_c=toluene_C, tla_c=tla_c)\n",
    "phH_vp = calVaporPressure(an_a=benzene_A, an_b=benzene_B, an_c=benzene_C, tla_c=tla_c)\n",
    "cyH_vp = calVaporPressure(an_a=cyclohexane_A, an_b=cyclohexane_B, an_c=cyclohexane_C, tla_c=tla_c)"
   ]
  },
  {
   "cell_type": "code",
   "execution_count": 17,
   "metadata": {},
   "outputs": [
    {
     "data": {
      "text/plain": [
       "[0.267411029342799, 13.82916138246285]"
      ]
     },
     "execution_count": 17,
     "metadata": {},
     "output_type": "execute_result"
    }
   ],
   "source": [
    "phMe_vp"
   ]
  },
  {
   "cell_type": "code",
   "execution_count": 18,
   "metadata": {},
   "outputs": [
    {
     "data": {
      "text/plain": [
       "[0.9676779840276715, 50.043466943991035]"
      ]
     },
     "execution_count": 18,
     "metadata": {},
     "output_type": "execute_result"
    }
   ],
   "source": [
    "phH_vp"
   ]
  },
  {
   "cell_type": "code",
   "execution_count": 19,
   "metadata": {},
   "outputs": [
    {
     "data": {
      "text/plain": [
       "[1.0060562857068127, 52.02820081532783]"
      ]
     },
     "execution_count": 19,
     "metadata": {},
     "output_type": "execute_result"
    }
   ],
   "source": [
    "cyH_vp"
   ]
  },
  {
   "cell_type": "code",
   "execution_count": 20,
   "metadata": {},
   "outputs": [],
   "source": [
    "comp_amt = [2812.0, 258, 101]\n",
    "comp_mw = [78.11, 92.14, 84.16]\n",
    "comp_name = ['Benzene', 'Toluene', 'Cyclohexane']\n",
    "comp_vp = [phH_vp[0], phMe_vp[0], cyH_vp[0]]\n",
    "\n",
    "df = pd.DataFrame({'component': comp_name, \n",
    "                   'amount_lb': comp_amt, \n",
    "                   'mw_lbs_mol': comp_mw, \n",
    "                   'comp_vp': comp_vp})\n",
    "\n",
    "df['comp_mole'] = df['amount_lb'] / df['mw_lbs_mol']\n",
    "tot_moles = np.sum(df['comp_mole'].tolist())\n",
    "\n",
    "df['comp_mole_xi'] = df['comp_mole'] / tot_moles\n",
    "df['comp_partial'] = df['comp_mole_xi'] * df['comp_vp']\n",
    "vp_mixture = np.sum(df['comp_partial'].tolist())\n",
    "\n",
    "df['comp_vap_mole_frac'] = df['comp_partial'] / vp_mixture\n",
    "df['comp_vapor_mw_xi'] = df['mw_lbs_mol'] * df['comp_vap_mole_frac']\n",
    "vapor_mw = np.sum(df['comp_vapor_mw_xi'].tolist())"
   ]
  },
  {
   "cell_type": "code",
   "execution_count": 21,
   "metadata": {},
   "outputs": [
    {
     "data": {
      "text/plain": [
       "78.59405480262626"
      ]
     },
     "execution_count": 21,
     "metadata": {},
     "output_type": "execute_result"
    }
   ],
   "source": [
    "vapor_mw"
   ]
  },
  {
   "cell_type": "code",
   "execution_count": 22,
   "metadata": {},
   "outputs": [
    {
     "data": {
      "text/plain": [
       "0.9198100479313434"
      ]
     },
     "execution_count": 22,
     "metadata": {},
     "output_type": "execute_result"
    }
   ],
   "source": [
    "vp_mixture"
   ]
  },
  {
   "cell_type": "code",
   "execution_count": 23,
   "metadata": {},
   "outputs": [],
   "source": [
    "def stockDensity(mv, pva, tv):\n",
    "    '''\n",
    "    Uses R = 10.731 psia*ft3 / lb-mole* deg R\n",
    "    Returns stock density in units of lbs/ft3\n",
    "    '''\n",
    "    return ((mv*pva) / (10.731 *tv))"
   ]
  },
  {
   "cell_type": "code",
   "execution_count": 24,
   "metadata": {},
   "outputs": [
    {
     "data": {
      "text/plain": [
       "0.013104133345548597"
      ]
     },
     "execution_count": 24,
     "metadata": {},
     "output_type": "execute_result"
    }
   ],
   "source": [
    "wv = stockDensity(mv=vapor_mw, pva=vp_mixture, tv=tank.tv())\n",
    "wv"
   ]
  },
  {
   "cell_type": "code",
   "execution_count": 25,
   "metadata": {},
   "outputs": [],
   "source": [
    "#TODO: Calculate vapor pressure range.\n",
    "\n",
    "def vapPressureRange(plx, pln):\n",
    "    '''\n",
    "    Returns the vapor pressure range, in PSIA, as calculated from Eqn: 1-10.\n",
    "    '''\n",
    "    return plx - pln"
   ]
  },
  {
   "cell_type": "code",
   "execution_count": 26,
   "metadata": {},
   "outputs": [],
   "source": [
    "#Converts from Rankine to deg C.\n",
    "tlx_c = (tank.tlx_r() - 491.7) * (5/9.)\n",
    "tln_c = (tank.tln_r() - 491.7) * (5/9.)"
   ]
  },
  {
   "cell_type": "code",
   "execution_count": 27,
   "metadata": {},
   "outputs": [
    {
     "data": {
      "text/plain": [
       "15.321361111111067"
      ]
     },
     "execution_count": 27,
     "metadata": {},
     "output_type": "execute_result"
    }
   ],
   "source": [
    "tlx_c"
   ]
  },
  {
   "cell_type": "code",
   "execution_count": 28,
   "metadata": {},
   "outputs": [
    {
     "data": {
      "text/plain": [
       "8.272749999999956"
      ]
     },
     "execution_count": 28,
     "metadata": {},
     "output_type": "execute_result"
    }
   ],
   "source": [
    "tln_c"
   ]
  },
  {
   "cell_type": "code",
   "execution_count": 29,
   "metadata": {},
   "outputs": [],
   "source": [
    "phMe_vp_tlx = calVaporPressure(an_a=toluene_A, an_b=toluene_B, an_c=toluene_C, tla_c=tlx_c)\n",
    "phH_vp_tlx = calVaporPressure(an_a=benzene_A, an_b=benzene_B, an_c=benzene_C, tla_c=tlx_c)\n",
    "cyH_vp_tlx = calVaporPressure(an_a=cyclohexane_A, an_b=cyclohexane_B, an_c=cyclohexane_C, tla_c=tlx_c)"
   ]
  },
  {
   "cell_type": "code",
   "execution_count": 30,
   "metadata": {},
   "outputs": [],
   "source": [
    "phMe_vp_tln = calVaporPressure(an_a=toluene_A, an_b=toluene_B, an_c=toluene_C, tla_c=tln_c)\n",
    "phH_vp_tln = calVaporPressure(an_a=benzene_A, an_b=benzene_B, an_c=benzene_C, tla_c=tln_c)\n",
    "cyH_vp_tln = calVaporPressure(an_a=cyclohexane_A, an_b=cyclohexane_B, an_c=cyclohexane_C, tla_c=tln_c)"
   ]
  },
  {
   "cell_type": "code",
   "execution_count": 31,
   "metadata": {},
   "outputs": [],
   "source": [
    "comp_vp_tln = [phH_vp_tln[0], phMe_vp_tln[0], cyH_vp_tln[0]]\n",
    "comp_vp_tlx = [phH_vp_tlx[0], phMe_vp_tlx[0], cyH_vp_tlx[0]]\n",
    "\n",
    "df['comp_vp_tln'] = comp_vp_tln\n",
    "df['comp_vp_tlx'] = comp_vp_tlx"
   ]
  },
  {
   "cell_type": "code",
   "execution_count": 32,
   "metadata": {},
   "outputs": [
    {
     "data": {
      "text/html": [
       "<div>\n",
       "<style scoped>\n",
       "    .dataframe tbody tr th:only-of-type {\n",
       "        vertical-align: middle;\n",
       "    }\n",
       "\n",
       "    .dataframe tbody tr th {\n",
       "        vertical-align: top;\n",
       "    }\n",
       "\n",
       "    .dataframe thead th {\n",
       "        text-align: right;\n",
       "    }\n",
       "</style>\n",
       "<table border=\"1\" class=\"dataframe\">\n",
       "  <thead>\n",
       "    <tr style=\"text-align: right;\">\n",
       "      <th></th>\n",
       "      <th>component</th>\n",
       "      <th>amount_lb</th>\n",
       "      <th>mw_lbs_mol</th>\n",
       "      <th>comp_vp</th>\n",
       "      <th>comp_mole</th>\n",
       "      <th>comp_mole_xi</th>\n",
       "      <th>comp_partial</th>\n",
       "      <th>comp_vap_mole_frac</th>\n",
       "      <th>comp_vapor_mw_xi</th>\n",
       "      <th>comp_vp_tln</th>\n",
       "      <th>comp_vp_tlx</th>\n",
       "      <th>comp_partial_tln</th>\n",
       "      <th>comp_partial_tlx</th>\n",
       "    </tr>\n",
       "  </thead>\n",
       "  <tbody>\n",
       "    <tr>\n",
       "      <td>0</td>\n",
       "      <td>Benzene</td>\n",
       "      <td>2812.0</td>\n",
       "      <td>78.11</td>\n",
       "      <td>0.967678</td>\n",
       "      <td>36.000512</td>\n",
       "      <td>0.899997</td>\n",
       "      <td>0.870907</td>\n",
       "      <td>0.946834</td>\n",
       "      <td>73.957207</td>\n",
       "      <td>0.804679</td>\n",
       "      <td>1.157305</td>\n",
       "      <td>0.724209</td>\n",
       "      <td>1.041571</td>\n",
       "    </tr>\n",
       "    <tr>\n",
       "      <td>1</td>\n",
       "      <td>Toluene</td>\n",
       "      <td>258.0</td>\n",
       "      <td>92.14</td>\n",
       "      <td>0.267411</td>\n",
       "      <td>2.800087</td>\n",
       "      <td>0.070001</td>\n",
       "      <td>0.018719</td>\n",
       "      <td>0.020351</td>\n",
       "      <td>1.875138</td>\n",
       "      <td>0.217517</td>\n",
       "      <td>0.326745</td>\n",
       "      <td>0.015226</td>\n",
       "      <td>0.022872</td>\n",
       "    </tr>\n",
       "    <tr>\n",
       "      <td>2</td>\n",
       "      <td>Cyclohexane</td>\n",
       "      <td>101.0</td>\n",
       "      <td>84.16</td>\n",
       "      <td>1.006056</td>\n",
       "      <td>1.200095</td>\n",
       "      <td>0.030002</td>\n",
       "      <td>0.030184</td>\n",
       "      <td>0.032815</td>\n",
       "      <td>2.761709</td>\n",
       "      <td>0.840270</td>\n",
       "      <td>1.198150</td>\n",
       "      <td>0.025210</td>\n",
       "      <td>0.035947</td>\n",
       "    </tr>\n",
       "  </tbody>\n",
       "</table>\n",
       "</div>"
      ],
      "text/plain": [
       "     component  amount_lb  mw_lbs_mol   comp_vp  comp_mole  comp_mole_xi  \\\n",
       "0      Benzene     2812.0       78.11  0.967678  36.000512      0.899997   \n",
       "1      Toluene      258.0       92.14  0.267411   2.800087      0.070001   \n",
       "2  Cyclohexane      101.0       84.16  1.006056   1.200095      0.030002   \n",
       "\n",
       "   comp_partial  comp_vap_mole_frac  comp_vapor_mw_xi  comp_vp_tln  \\\n",
       "0      0.870907            0.946834         73.957207     0.804679   \n",
       "1      0.018719            0.020351          1.875138     0.217517   \n",
       "2      0.030184            0.032815          2.761709     0.840270   \n",
       "\n",
       "   comp_vp_tlx  comp_partial_tln  comp_partial_tlx  \n",
       "0     1.157305          0.724209          1.041571  \n",
       "1     0.326745          0.015226          0.022872  \n",
       "2     1.198150          0.025210          0.035947  "
      ]
     },
     "execution_count": 32,
     "metadata": {},
     "output_type": "execute_result"
    }
   ],
   "source": [
    "df['comp_partial_tln'] = df['comp_mole_xi'] * df['comp_vp_tln']\n",
    "df['comp_partial_tlx'] = df['comp_mole_xi'] * df['comp_vp_tlx']\n",
    "df"
   ]
  },
  {
   "cell_type": "code",
   "execution_count": 33,
   "metadata": {},
   "outputs": [],
   "source": [
    "tot_vp_tln = np.sum(df['comp_partial_tln'].tolist())\n",
    "tot_vp_tlx = np.sum(df['comp_partial_tlx'].tolist())"
   ]
  },
  {
   "cell_type": "code",
   "execution_count": 34,
   "metadata": {},
   "outputs": [],
   "source": [
    "delpv = vapPressureRange(plx=tot_vp_tlx, pln=tot_vp_tln)"
   ]
  },
  {
   "cell_type": "code",
   "execution_count": 35,
   "metadata": {},
   "outputs": [
    {
     "data": {
      "text/plain": [
       "0.07417818796482606"
      ]
     },
     "execution_count": 35,
     "metadata": {},
     "output_type": "execute_result"
    }
   ],
   "source": [
    "def vaporSpaceExpansionFactor(deltv, tla, delpv, delbpv, atmp, pva):\n",
    "    '''\n",
    "    Returns the Vapor Space Expansion Factor (ke), as calculated from Eqn: 1-5.\n",
    "    '''\n",
    "    return (deltv/tla) + ((delpv - delbpv) / (atmp - pva))\n",
    "ke = vaporSpaceExpansionFactor(deltv=tank.deltv(), \n",
    "                          tla=tank.tla(), \n",
    "                          delpv=delpv, \n",
    "                          delbpv=tank.bventpress(), \n",
    "                          atmp=12.08, \n",
    "                          pva=vp_mixture)\n",
    "ke"
   ]
  },
  {
   "cell_type": "code",
   "execution_count": 36,
   "metadata": {},
   "outputs": [],
   "source": [
    "def ventedVaporSpaceSatFactor(pva, hvo):\n",
    "    return 1/(1 + (0.053*pva*hvo))"
   ]
  },
  {
   "cell_type": "code",
   "execution_count": 37,
   "metadata": {},
   "outputs": [],
   "source": [
    "ks = ventedVaporSpaceSatFactor(pva=vp_mixture, hvo=tank.hvo)"
   ]
  },
  {
   "cell_type": "code",
   "execution_count": 38,
   "metadata": {},
   "outputs": [],
   "source": [
    "def calculateStandingLosses(vv, wv, ke, ks):\n",
    "    '''\n",
    "    Returns the standing losses from the tank in lbs/year.\n",
    "    '''\n",
    "    return 365*vv*wv*ke*ks"
   ]
  },
  {
   "cell_type": "code",
   "execution_count": 39,
   "metadata": {},
   "outputs": [
    {
     "data": {
      "text/plain": [
       "34.01648485499338"
      ]
     },
     "execution_count": 39,
     "metadata": {},
     "output_type": "execute_result"
    }
   ],
   "source": [
    "calculateStandingLosses(vv=vv, wv=wv, ke=ke, ks=ks)"
   ]
  },
  {
   "cell_type": "code",
   "execution_count": 40,
   "metadata": {},
   "outputs": [],
   "source": [
    "def calculateWorkingLosses(vq, kn, kp, wv, kb):\n",
    "    '''\n",
    "    Returns the working losses from the tank in lbs/year.\n",
    "    '''\n",
    "    return vq*kn*kp*wv*kb"
   ]
  },
  {
   "cell_type": "code",
   "execution_count": null,
   "metadata": {},
   "outputs": [],
   "source": []
  }
 ],
 "metadata": {
  "kernelspec": {
   "display_name": "Python 3",
   "language": "python",
   "name": "python3"
  },
  "language_info": {
   "codemirror_mode": {
    "name": "ipython",
    "version": 3
   },
   "file_extension": ".py",
   "mimetype": "text/x-python",
   "name": "python",
   "nbconvert_exporter": "python",
   "pygments_lexer": "ipython3",
   "version": "3.7.4"
  }
 },
 "nbformat": 4,
 "nbformat_minor": 2
}
