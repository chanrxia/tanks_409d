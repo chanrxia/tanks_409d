{
 "cells": [
  {
   "cell_type": "markdown",
   "metadata": {},
   "source": [
    "### Tanks 4.09d Vertical Fixed Roof Tank Calculations "
   ]
  },
  {
   "cell_type": "code",
   "execution_count": 1,
   "metadata": {},
   "outputs": [],
   "source": [
    "import math\n",
    "import pandas as pd\n",
    "import numpy as np\n",
    "from tanks_helper import *\n",
    "\n",
    "df_chem = pd.read_csv('chemical_db.csv')\n",
    "df_met = pd.read_csv('met_db.csv')\n",
    "df_shade = pd.read_csv('table-7-1-6-solarabs.csv')"
   ]
  },
  {
   "cell_type": "code",
   "execution_count": 2,
   "metadata": {},
   "outputs": [
    {
     "data": {
      "text/html": [
       "<div>\n",
       "<style scoped>\n",
       "    .dataframe tbody tr th:only-of-type {\n",
       "        vertical-align: middle;\n",
       "    }\n",
       "\n",
       "    .dataframe tbody tr th {\n",
       "        vertical-align: top;\n",
       "    }\n",
       "\n",
       "    .dataframe thead th {\n",
       "        text-align: right;\n",
       "    }\n",
       "</style>\n",
       "<table border=\"1\" class=\"dataframe\">\n",
       "  <thead>\n",
       "    <tr style=\"text-align: right;\">\n",
       "      <th></th>\n",
       "      <th>component</th>\n",
       "      <th>cas_no</th>\n",
       "      <th>mw</th>\n",
       "      <th>antoine_coef_a</th>\n",
       "      <th>antoine_coef_b</th>\n",
       "      <th>antoine_coef_c</th>\n",
       "    </tr>\n",
       "  </thead>\n",
       "  <tbody>\n",
       "    <tr>\n",
       "      <th>0</th>\n",
       "      <td>Benzene</td>\n",
       "      <td>00071-43-2</td>\n",
       "      <td>78.11</td>\n",
       "      <td>6.905</td>\n",
       "      <td>1211.033</td>\n",
       "      <td>220.79</td>\n",
       "    </tr>\n",
       "    <tr>\n",
       "      <th>1</th>\n",
       "      <td>Cyclohexane</td>\n",
       "      <td>00110-82-7</td>\n",
       "      <td>84.15999999999998</td>\n",
       "      <td>6.841</td>\n",
       "      <td>1201.53</td>\n",
       "      <td>222.65</td>\n",
       "    </tr>\n",
       "    <tr>\n",
       "      <th>2</th>\n",
       "      <td>Toluene</td>\n",
       "      <td>00108-88-3</td>\n",
       "      <td>92.13</td>\n",
       "      <td>6.954</td>\n",
       "      <td>1344.8</td>\n",
       "      <td>219.48</td>\n",
       "    </tr>\n",
       "  </tbody>\n",
       "</table>\n",
       "</div>"
      ],
      "text/plain": [
       "     component      cas_no                 mw antoine_coef_a antoine_coef_b  \\\n",
       "0      Benzene  00071-43-2              78.11          6.905       1211.033   \n",
       "1  Cyclohexane  00110-82-7  84.15999999999998          6.841        1201.53   \n",
       "2      Toluene  00108-88-3              92.13          6.954         1344.8   \n",
       "\n",
       "  antoine_coef_c  \n",
       "0         220.79  \n",
       "1         222.65  \n",
       "2         219.48  "
      ]
     },
     "execution_count": 2,
     "metadata": {},
     "output_type": "execute_result"
    }
   ],
   "source": [
    "INPUT_CITY = 'Denver, Colorado'                     # From User Data\n",
    "INPUT_TANK = [12, 8, 6]                             # tkshellht, skliqht, diameter\n",
    "INPUT_CONTENTS = [8450, 'other stocks', 11.5, 4.5]  # throughput, productfactor, hlx, hln\n",
    "CHEM_LIST = ['Cyclohexane', 'Benzene', 'Toluene']   # From User Data\n",
    "ANNUAL_QUANTITY = [101, 2812, 258]                  # From User Data\n",
    "DEFAULT_LIST = [0.0625, 1491, 1]                    # tkrfslope, ins, ventsetting\n",
    "CONDITION_LIST = ['White', 'None', 'Aged']          # color, shade, condition\n",
    "\n",
    "name_ = np.array([df_chem[df_chem['NAME'].isin(CHEM_LIST)]['NAME'].tolist()])\n",
    "cas_ = np.array([df_chem[df_chem['NAME'].isin(CHEM_LIST)]['CAS'].tolist()])\n",
    "mw_ = np.array([df_chem[df_chem['NAME'].isin(CHEM_LIST)]['MOLWT'].tolist()])\n",
    "vp_a = np.array([df_chem[df_chem['NAME'].isin(CHEM_LIST)]['VP_COEF_A'].tolist()])\n",
    "vp_b = np.array([df_chem[df_chem['NAME'].isin(CHEM_LIST)]['VP_COEF_B'].tolist()])\n",
    "vp_c = np.array([df_chem[df_chem['NAME'].isin(CHEM_LIST)]['VP_COEF_C'].tolist()])\n",
    "arr = np.concatenate((name_, cas_, mw_, vp_a, vp_b, vp_c), axis=0).T\n",
    "\n",
    "df3 = pd.DataFrame(data=arr, columns=['component',\n",
    "                                      'cas_no',\n",
    "                                      'mw',\n",
    "                                      'antoine_coef_a',\n",
    "                                      'antoine_coef_b',\n",
    "                                      'antoine_coef_c'])\n",
    "df3"
   ]
  },
  {
   "cell_type": "code",
   "execution_count": 3,
   "metadata": {},
   "outputs": [
    {
     "data": {
      "text/html": [
       "<div>\n",
       "<style scoped>\n",
       "    .dataframe tbody tr th:only-of-type {\n",
       "        vertical-align: middle;\n",
       "    }\n",
       "\n",
       "    .dataframe tbody tr th {\n",
       "        vertical-align: top;\n",
       "    }\n",
       "\n",
       "    .dataframe thead th {\n",
       "        text-align: right;\n",
       "    }\n",
       "</style>\n",
       "<table border=\"1\" class=\"dataframe\">\n",
       "  <thead>\n",
       "    <tr style=\"text-align: right;\">\n",
       "      <th></th>\n",
       "      <th>component</th>\n",
       "      <th>comp_amt</th>\n",
       "    </tr>\n",
       "  </thead>\n",
       "  <tbody>\n",
       "    <tr>\n",
       "      <th>0</th>\n",
       "      <td>Cyclohexane</td>\n",
       "      <td>101</td>\n",
       "    </tr>\n",
       "    <tr>\n",
       "      <th>1</th>\n",
       "      <td>Benzene</td>\n",
       "      <td>2812</td>\n",
       "    </tr>\n",
       "    <tr>\n",
       "      <th>2</th>\n",
       "      <td>Toluene</td>\n",
       "      <td>258</td>\n",
       "    </tr>\n",
       "  </tbody>\n",
       "</table>\n",
       "</div>"
      ],
      "text/plain": [
       "     component  comp_amt\n",
       "0  Cyclohexane       101\n",
       "1      Benzene      2812\n",
       "2      Toluene       258"
      ]
     },
     "execution_count": 3,
     "metadata": {},
     "output_type": "execute_result"
    }
   ],
   "source": [
    "df2 = pd.DataFrame({'component': CHEM_LIST, 'comp_amt': ANNUAL_QUANTITY})\n",
    "df2"
   ]
  },
  {
   "cell_type": "code",
   "execution_count": 4,
   "metadata": {},
   "outputs": [
    {
     "data": {
      "text/html": [
       "<div>\n",
       "<style scoped>\n",
       "    .dataframe tbody tr th:only-of-type {\n",
       "        vertical-align: middle;\n",
       "    }\n",
       "\n",
       "    .dataframe tbody tr th {\n",
       "        vertical-align: top;\n",
       "    }\n",
       "\n",
       "    .dataframe thead th {\n",
       "        text-align: right;\n",
       "    }\n",
       "</style>\n",
       "<table border=\"1\" class=\"dataframe\">\n",
       "  <thead>\n",
       "    <tr style=\"text-align: right;\">\n",
       "      <th></th>\n",
       "      <th>component</th>\n",
       "      <th>comp_amt</th>\n",
       "      <th>cas_no</th>\n",
       "      <th>mw</th>\n",
       "      <th>antoine_coef_a</th>\n",
       "      <th>antoine_coef_b</th>\n",
       "      <th>antoine_coef_c</th>\n",
       "    </tr>\n",
       "  </thead>\n",
       "  <tbody>\n",
       "    <tr>\n",
       "      <th>0</th>\n",
       "      <td>Cyclohexane</td>\n",
       "      <td>101</td>\n",
       "      <td>00110-82-7</td>\n",
       "      <td>84.15999999999998</td>\n",
       "      <td>6.841</td>\n",
       "      <td>1201.53</td>\n",
       "      <td>222.65</td>\n",
       "    </tr>\n",
       "    <tr>\n",
       "      <th>1</th>\n",
       "      <td>Benzene</td>\n",
       "      <td>2812</td>\n",
       "      <td>00071-43-2</td>\n",
       "      <td>78.11</td>\n",
       "      <td>6.905</td>\n",
       "      <td>1211.033</td>\n",
       "      <td>220.79</td>\n",
       "    </tr>\n",
       "    <tr>\n",
       "      <th>2</th>\n",
       "      <td>Toluene</td>\n",
       "      <td>258</td>\n",
       "      <td>00108-88-3</td>\n",
       "      <td>92.13</td>\n",
       "      <td>6.954</td>\n",
       "      <td>1344.8</td>\n",
       "      <td>219.48</td>\n",
       "    </tr>\n",
       "  </tbody>\n",
       "</table>\n",
       "</div>"
      ],
      "text/plain": [
       "     component  comp_amt      cas_no                 mw antoine_coef_a  \\\n",
       "0  Cyclohexane       101  00110-82-7  84.15999999999998          6.841   \n",
       "1      Benzene      2812  00071-43-2              78.11          6.905   \n",
       "2      Toluene       258  00108-88-3              92.13          6.954   \n",
       "\n",
       "  antoine_coef_b antoine_coef_c  \n",
       "0        1201.53         222.65  \n",
       "1       1211.033         220.79  \n",
       "2         1344.8         219.48  "
      ]
     },
     "execution_count": 4,
     "metadata": {},
     "output_type": "execute_result"
    }
   ],
   "source": [
    "#df2.join(df3, lsuffix='component', rsuffix='component', how='left')\n",
    "\n",
    "pd.merge(df2, df3, on='component', how='inner')"
   ]
  },
  {
   "cell_type": "code",
   "execution_count": 1,
   "metadata": {},
   "outputs": [
    {
     "data": {
      "text/plain": [
       "<Response [200]>"
      ]
     },
     "execution_count": 1,
     "metadata": {},
     "output_type": "execute_result"
    }
   ],
   "source": [
    "import requests as r\n",
    "\n",
    "POST_JSON = {\n",
    "    'input_city': 'Cape Hatteras, North Carolina',\n",
    "    'input_tank': [12, 8, 6],\n",
    "    'input_contents': [8450, 'other stocks', 11.5, 4.5],\n",
    "    'input_chem': ['Cyclohexane', 'Benzene', 'Toluene'],\n",
    "    'input_qty': [101, 2812, 258],\n",
    "    'input_default': [0.0625, 1491, 1],\n",
    "    'input_condition': ['White', 'None', 'Average']\n",
    "}\n",
    "\n",
    "r.post('http://127.0.0.1:5000/api/vfrtk', json=POST_JSON)\n"
   ]
  },
  {
   "cell_type": "code",
   "execution_count": null,
   "metadata": {},
   "outputs": [],
   "source": []
  }
 ],
 "metadata": {
  "kernelspec": {
   "display_name": "Python 3",
   "language": "python",
   "name": "python3"
  },
  "language_info": {
   "codemirror_mode": {
    "name": "ipython",
    "version": 3
   },
   "file_extension": ".py",
   "mimetype": "text/x-python",
   "name": "python",
   "nbconvert_exporter": "python",
   "pygments_lexer": "ipython3",
   "version": "3.6.10"
  }
 },
 "nbformat": 4,
 "nbformat_minor": 2
}
